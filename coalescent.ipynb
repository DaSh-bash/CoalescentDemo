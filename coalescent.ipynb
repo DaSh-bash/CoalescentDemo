{
 "cells": [
  {
   "cell_type": "markdown",
   "metadata": {
    "toc": true
   },
   "source": [
    "<h1>Outline<span class=\"tocSkip\"></span></h1>\n",
    "<div class=\"toc\"><ul class=\"toc-item\"><li><span><a href=\"#Introduction-to-the-coalescent\" data-toc-modified-id=\"Introduction-to-the-coalescent-1\">Introduction to the coalescent</a></span><ul class=\"toc-item\"><li><span><a href=\"#About\" data-toc-modified-id=\"About-1.1\">About</a></span></li><li><span><a href=\"#Requirements\" data-toc-modified-id=\"Requirements-1.2\">Requirements</a></span></li><li><span><a href=\"#Python-setup\" data-toc-modified-id=\"Python-setup-1.3\">Python setup</a></span></li><li><span><a href=\"#Backward-and-forward-simulation\" data-toc-modified-id=\"Backward-and-forward-simulation-1.4\">Backward and forward simulation</a></span></li><li><span><a href=\"#The-Wright-Fisher-model\" data-toc-modified-id=\"The-Wright-Fisher-model-1.5\">The Wright-Fisher model</a></span></li><li><span><a href=\"#The-coalescent\" data-toc-modified-id=\"The-coalescent-1.6\">The coalescent</a></span></li><li><span><a href=\"#Statistics-on-tree-branch-lengths\" data-toc-modified-id=\"Statistics-on-tree-branch-lengths-1.7\">Statistics on tree branch lengths</a></span></li><li><span><a href=\"#Adding-mutations\" data-toc-modified-id=\"Adding-mutations-1.8\">Adding mutations</a></span></li><li><span><a href=\"#Some-insights-from-the-simple-coalescent\" data-toc-modified-id=\"Some-insights-from-the-simple-coalescent-1.9\">Some insights from the simple coalescent</a></span><ul class=\"toc-item\"><li><span><a href=\"#Probability-of-a-coalescent-event\" data-toc-modified-id=\"Probability-of-a-coalescent-event-1.9.1\">Probability of a coalescent event</a></span></li><li><span><a href=\"#Time-between-events\" data-toc-modified-id=\"Time-between-events-1.9.2\">Time between events</a></span></li><li><span><a href=\"#Height-of-coalescent-genealogy\" data-toc-modified-id=\"Height-of-coalescent-genealogy-1.9.3\">Height of coalescent genealogy</a></span></li><li><span><a href=\"#Total-tree-length\" data-toc-modified-id=\"Total-tree-length-1.9.4\">Total tree length</a></span></li><li><span><a href=\"#More-sites-better-than-individuals\" data-toc-modified-id=\"More-sites-better-than-individuals-1.9.5\">More sites better than individuals</a></span></li></ul></li></ul></li><li><span><a href=\"#The-coalescent-with-msprime\" data-toc-modified-id=\"The-coalescent-with-msprime-2\">The coalescent with msprime</a></span><ul class=\"toc-item\"><li><span><a href=\"#Simulating-a-genealogy\" data-toc-modified-id=\"Simulating-a-genealogy-2.1\">Simulating a genealogy</a></span></li><li><span><a href=\"#Adding-recombination\" data-toc-modified-id=\"Adding-recombination-2.2\">Adding recombination</a></span></li><li><span><a href=\"#Adding-mutations\" data-toc-modified-id=\"Adding-mutations-2.3\">Adding mutations</a></span></li><li><span><a href=\"#Combining-recombination-and-mutation\" data-toc-modified-id=\"Combining-recombination-and-mutation-2.4\">Combining recombination and mutation</a></span></li><li><span><a href=\"#The-coalescent-with-msprime-and-scikit_allel\" data-toc-modified-id=\"The-coalescent-with-msprime-and-scikit_allel-2.5\">The coalescent with msprime and scikit_allel</a></span><ul class=\"toc-item\"><li><span><a href=\"#Adding-demographic-events\" data-toc-modified-id=\"Adding-demographic-events-2.5.1\">Adding demographic events</a></span></li><li><span><a href=\"#Effect-of-population-size-on-tree\" data-toc-modified-id=\"Effect-of-population-size-on-tree-2.5.2\">Effect of population size on tree</a></span></li><li><span><a href=\"#Effect-of-population-size-on-site-frequency-spectrum\" data-toc-modified-id=\"Effect-of-population-size-on-site-frequency-spectrum-2.5.3\">Effect of population size on site frequency spectrum</a></span></li><li><span><a href=\"#Scikit-allel-and-the-sfs\" data-toc-modified-id=\"Scikit-allel-and-the-sfs-2.5.4\">Scikit-allel and the sfs</a></span></li></ul></li></ul></li></ul></div>"
   ]
  },
  {
   "cell_type": "markdown",
   "metadata": {},
   "source": [
    "# Introduction to the coalescent"
   ]
  },
  {
   "cell_type": "markdown",
   "metadata": {},
   "source": [
    "## About"
   ]
  },
  {
   "cell_type": "markdown",
   "metadata": {},
   "source": [
    "This notebook is a compilation of code snippets that I have used for various presentations and lectures. The goal is to present simple python implementations of a forward and backward (aka coalescent) simulator to simulate an evolutionary process."
   ]
  },
  {
   "cell_type": "markdown",
   "metadata": {},
   "source": [
    "## Requirements"
   ]
  },
  {
   "cell_type": "markdown",
   "metadata": {},
   "source": [
    "The examples require that some additional packages be installed. Easiest is probably to create a [conda environment](https://docs.conda.io/en/latest/miniconda.html) as follows:\n"
   ]
  },
  {
   "cell_type": "code",
   "execution_count": null,
   "metadata": {
    "collapsed": true
   },
   "outputs": [],
   "source": [
    "!#conda create -n popgen -c conda-forge -c bioconda -c defaults biopython holoviews msprime pandas scikit-allel"
   ]
  },
  {
   "cell_type": "markdown",
   "metadata": {},
   "source": [
    "## Python setup"
   ]
  },
  {
   "cell_type": "markdown",
   "metadata": {},
   "source": [
    "Import some libraries and set plotting options for holoviews"
   ]
  },
  {
   "cell_type": "code",
   "execution_count": 4,
   "metadata": {},
   "outputs": [
    {
     "ename": "ModuleNotFoundError",
     "evalue": "No module named 'holoviews'",
     "output_type": "error",
     "traceback": [
      "\u001b[0;31m---------------------------------------------------------------------------\u001b[0m",
      "\u001b[0;31mModuleNotFoundError\u001b[0m                       Traceback (most recent call last)",
      "\u001b[0;32m<ipython-input-4-092d33029a3f>\u001b[0m in \u001b[0;36m<module>\u001b[0;34m()\u001b[0m\n\u001b[1;32m      1\u001b[0m \u001b[0;32mimport\u001b[0m \u001b[0mnumpy\u001b[0m \u001b[0;32mas\u001b[0m \u001b[0mnp\u001b[0m\u001b[0;34m\u001b[0m\u001b[0m\n\u001b[1;32m      2\u001b[0m \u001b[0;32mimport\u001b[0m \u001b[0mpandas\u001b[0m \u001b[0;32mas\u001b[0m \u001b[0mpd\u001b[0m\u001b[0;34m\u001b[0m\u001b[0m\n\u001b[0;32m----> 3\u001b[0;31m \u001b[0;32mimport\u001b[0m \u001b[0mholoviews\u001b[0m \u001b[0;32mas\u001b[0m \u001b[0mhv\u001b[0m\u001b[0;34m\u001b[0m\u001b[0m\n\u001b[0m\u001b[1;32m      4\u001b[0m \u001b[0;32mimport\u001b[0m \u001b[0mnetworkx\u001b[0m \u001b[0;32mas\u001b[0m \u001b[0mnx\u001b[0m\u001b[0;34m\u001b[0m\u001b[0m\n\u001b[1;32m      5\u001b[0m \u001b[0;32mimport\u001b[0m \u001b[0mrandom\u001b[0m\u001b[0;34m\u001b[0m\u001b[0m\n",
      "\u001b[0;31mModuleNotFoundError\u001b[0m: No module named 'holoviews'"
     ]
    }
   ],
   "source": [
    "import numpy as np\n",
    "import pandas as pd\n",
    "import holoviews as hv\n",
    "import networkx as nx\n",
    "import random\n",
    "from io import StringIO\n",
    "from Bio import Phylo\n",
    "from holoviews import opts\n",
    "\n",
    "hv.extension('bokeh')\n",
    "\n",
    "defaults = dict(width=400, height=1000, padding=0.1)\n",
    "hv.opts.defaults(\n",
    "    opts.EdgePaths(**defaults), opts.Graph(**defaults), opts.Nodes(**defaults))\n",
    "\n",
    "%opts Nodes Graph [width=600 height=600 xaxis=None yaxis=None]\n",
    "%opts Graph (node_size=8 edge_line_width=1)\n",
    "\n",
    "random.seed(42)"
   ]
  },
  {
   "cell_type": "markdown",
   "metadata": {},
   "source": [
    "## Backward and forward simulation"
   ]
  },
  {
   "cell_type": "markdown",
   "metadata": {},
   "source": [
    "Basically simulation can be done by following a large population *forward* in time, applying mutation and recombination and selecting individuals to generate offspring as we move forward in time. Alternatively, we can look at a current population and look *backward* in time, keeping track of common ancestry. This has the additional benefit of focusing on the *sample*, which is what we in practice have in our hands, instead of keeping track of the *entire* population. However, with increased computational power, the drawbacks of forward simulation are diminishing.\n",
    "\n",
    "Hahn, 2019 has compiled a nice list of forward and backwards simulators (Table 6.1).\n"
   ]
  },
  {
   "cell_type": "markdown",
   "metadata": {},
   "source": [
    "## The Wright-Fisher model \n",
    "\n",
    "The basic Wright-Fisher model is a model of genetic drift in an idealized population where the following assumptions hold:\n",
    "\n",
    "1. constant size of $N$ diploid individuals (=> $2N$ chromosomes in population)\n",
    "2. individuals are hermaphrodites (=> random mating)\n",
    "3. non-overlapping generations\n",
    "4. chromosomes sampled at random with replacement\n",
    "5. no individuals survive but are replaced by offspring every generation\n",
    "\n",
    "The following code snippets show the basics for a simple forward time simulator. Each individual lives in a given generation and is represented by an *index* in that generation. An individual also has an ancestor. It makes sense to think of an individual as a *node* and therefore represent it by a *Node* class."
   ]
  },
  {
   "cell_type": "code",
   "execution_count": 2,
   "metadata": {
    "collapsed": true
   },
   "outputs": [],
   "source": [
    "class Node:\n",
    "    def __init__(self, node_id = None, anc = None):\n",
    "        # Unique identifier\n",
    "        self.id = node_id\n",
    "        # Ancestor\n",
    "        self.anc = anc"
   ]
  },
  {
   "cell_type": "markdown",
   "metadata": {},
   "source": [
    "Furthermore, individuals make up a population, so we define a class to represent a population:"
   ]
  },
  {
   "cell_type": "code",
   "execution_count": 3,
   "metadata": {
    "collapsed": true
   },
   "outputs": [],
   "source": [
    "class Population:\n",
    "    def __init__(self, generation = 0, N = 10, individuals = None):\n",
    "        self.gen = generation\n",
    "        if individuals is None:\n",
    "            self.individuals = np.array([Node(i, Node()) for i in range(N)])\n",
    "        else:\n",
    "            self.individuals = individuals\n",
    "            \n",
    "    @property\n",
    "    def imax(self):\n",
    "        \"\"\"Return the maximum node id for a populations\"\"\"\n",
    "        return self.individuals[-1].id"
   ]
  },
  {
   "cell_type": "markdown",
   "metadata": {},
   "source": [
    "We first initialize a population of 10 individuals."
   ]
  },
  {
   "cell_type": "code",
   "execution_count": 4,
   "metadata": {
    "collapsed": true
   },
   "outputs": [],
   "source": [
    "p0 = Population()"
   ]
  },
  {
   "cell_type": "markdown",
   "metadata": {},
   "source": [
    "Then we add a function to do Wright-Fisher sampling starting from the initial population. The code below returns a list of populations where the indices represent generations."
   ]
  },
  {
   "cell_type": "code",
   "execution_count": 5,
   "metadata": {
    "collapsed": true
   },
   "outputs": [],
   "source": [
    "def WrightFisher(p0, ngen = 10):\n",
    "    \"\"\"Do a WrightFisher forward simulation starting at population p0 and run for ngen generations\"\"\"\n",
    "    populations = [p0]\n",
    "    for t in range(1, ngen):\n",
    "        parents = populations[t - 1].individuals\n",
    "        # Sample parent indices\n",
    "        i = sorted(random.randint(0, len(parents) - 1) for i in range(len(parents)))\n",
    "        # Generate offspring\n",
    "        nodeids = range(populations[t - 1].imax + 1, populations[t - 1].imax + len(parents) + 1)\n",
    "        offspring = np.array([Node(nodeids[j], parents[i[j]]) for j in range(len(parents))])\n",
    "        # Add population to list\n",
    "        populations.append(Population(generation=t, individuals=offspring))\n",
    "    return populations"
   ]
  },
  {
   "cell_type": "code",
   "execution_count": 6,
   "metadata": {
    "collapsed": true
   },
   "outputs": [],
   "source": [
    "populations = WrightFisher(p0)"
   ]
  },
  {
   "cell_type": "markdown",
   "metadata": {},
   "source": [
    "We print the generations and the individuals represented by their unique ids and the parent ids."
   ]
  },
  {
   "cell_type": "code",
   "execution_count": 7,
   "metadata": {},
   "outputs": [
    {
     "name": "stdout",
     "output_type": "stream",
     "text": [
      "0 [(0, None), (1, None), (2, None), (3, None), (4, None), (5, None), (6, None), (7, None), (8, None), (9, None)]\n",
      "1 [(10, 0), (11, 1), (12, 1), (13, 1), (14, 2), (15, 3), (16, 3), (17, 4), (18, 8), (19, 9)]\n",
      "2 [(20, 10), (21, 10), (22, 10), (23, 11), (24, 13), (25, 13), (26, 16), (27, 18), (28, 18), (29, 19)]\n",
      "3 [(30, 20), (31, 22), (32, 23), (33, 23), (34, 24), (35, 26), (36, 26), (37, 27), (38, 28), (39, 29)]\n",
      "4 [(40, 31), (41, 31), (42, 31), (43, 32), (44, 33), (45, 34), (46, 35), (47, 35), (48, 35), (49, 36)]\n",
      "5 [(50, 40), (51, 41), (52, 41), (53, 44), (54, 45), (55, 46), (56, 47), (57, 48), (58, 48), (59, 49)]\n",
      "6 [(60, 50), (61, 51), (62, 51), (63, 53), (64, 53), (65, 54), (66, 54), (67, 55), (68, 59), (69, 59)]\n",
      "7 [(70, 61), (71, 62), (72, 63), (73, 63), (74, 64), (75, 65), (76, 65), (77, 65), (78, 66), (79, 67)]\n",
      "8 [(80, 71), (81, 72), (82, 72), (83, 73), (84, 74), (85, 74), (86, 76), (87, 77), (88, 78), (89, 79)]\n",
      "9 [(90, 80), (91, 80), (92, 81), (93, 83), (94, 83), (95, 84), (96, 85), (97, 85), (98, 86), (99, 88)]\n"
     ]
    }
   ],
   "source": [
    "t = 0\n",
    "for p in populations:\n",
    "    print(t, [(n.id, n.anc.id) for n in p.individuals])\n",
    "    t = t + 1"
   ]
  },
  {
   "cell_type": "markdown",
   "metadata": {},
   "source": [
    "We can also visualize the data to get a clearer view of the process. We use the networkx library to represent nodes and use the holoviews package to make an interactive plot."
   ]
  },
  {
   "cell_type": "code",
   "execution_count": 8,
   "metadata": {
    "collapsed": true
   },
   "outputs": [],
   "source": [
    "nodes = pd.DataFrame({'x': list(range(len(p0.individuals))) * len(populations),\n",
    "                      'y': list(np.repeat(range(len(populations), 0, -1), len(p0.individuals))),\n",
    "                      'anc': [n.anc.id for p in populations for n in p.individuals], \n",
    "                      'id': [n.id for p in populations for n in p.individuals]})"
   ]
  },
  {
   "cell_type": "code",
   "execution_count": 9,
   "metadata": {
    "collapsed": true
   },
   "outputs": [],
   "source": [
    "edges = pd.DataFrame({'starts': [n.anc.id for p in populations[1:] for n in p.individuals],\n",
    "                      'ends': [n.id for p in populations[1:] for n in p.individuals]})"
   ]
  },
  {
   "cell_type": "code",
   "execution_count": 10,
   "metadata": {
    "collapsed": true
   },
   "outputs": [],
   "source": [
    "def plot(nodes, edges):\n",
    "    nodes_hv = hv.Nodes((nodes['x'], nodes['y'], nodes['id'], nodes['id']))\n",
    "    return hv.Graph(((edges['starts'], edges['ends']), nodes_hv))"
   ]
  },
  {
   "cell_type": "code",
   "execution_count": 11,
   "metadata": {},
   "outputs": [
    {
     "data": {},
     "metadata": {},
     "output_type": "display_data"
    },
    {
     "data": {
      "application/vnd.holoviews_exec.v0+json": "",
      "text/html": [
       "<div id='1001'>\n",
       "\n",
       "\n",
       "\n",
       "\n",
       "\n",
       "  <div class=\"bk-root\" id=\"7d281c88-79b6-46c4-a010-01d2edcefd82\" data-root-id=\"1001\"></div>\n",
       "</div>\n",
       "<script type=\"application/javascript\">(function(root) {\n",
       "  function embed_document(root) {\n",
       "    var docs_json = {\"6351bd8c-d815-4127-a357-dd1b4d50515e\":{\"roots\":{\"references\":[{\"attributes\":{},\"id\":\"1024\",\"type\":\"PanTool\"},{\"attributes\":{\"data\":{\"index\":{\"__ndarray__\":\"AAAAAAEAAAACAAAAAwAAAAQAAAAFAAAABgAAAAcAAAAIAAAACQAAAAoAAAALAAAADAAAAA0AAAAOAAAADwAAABAAAAARAAAAEgAAABMAAAAUAAAAFQAAABYAAAAXAAAAGAAAABkAAAAaAAAAGwAAABwAAAAdAAAAHgAAAB8AAAAgAAAAIQAAACIAAAAjAAAAJAAAACUAAAAmAAAAJwAAACgAAAApAAAAKgAAACsAAAAsAAAALQAAAC4AAAAvAAAAMAAAADEAAAAyAAAAMwAAADQAAAA1AAAANgAAADcAAAA4AAAAOQAAADoAAAA7AAAAPAAAAD0AAAA+AAAAPwAAAEAAAABBAAAAQgAAAEMAAABEAAAARQAAAEYAAABHAAAASAAAAEkAAABKAAAASwAAAEwAAABNAAAATgAAAE8AAABQAAAAUQAAAFIAAABTAAAAVAAAAFUAAABWAAAAVwAAAFgAAABZAAAAWgAAAFsAAABcAAAAXQAAAF4AAABfAAAAYAAAAGEAAABiAAAAYwAAAA==\",\"dtype\":\"int32\",\"order\":\"little\",\"shape\":[100]},\"index_hover\":[\"0\",\"1\",\"2\",\"3\",\"4\",\"5\",\"6\",\"7\",\"8\",\"9\",\"10\",\"11\",\"12\",\"13\",\"14\",\"15\",\"16\",\"17\",\"18\",\"19\",\"20\",\"21\",\"22\",\"23\",\"24\",\"25\",\"26\",\"27\",\"28\",\"29\",\"30\",\"31\",\"32\",\"33\",\"34\",\"35\",\"36\",\"37\",\"38\",\"39\",\"40\",\"41\",\"42\",\"43\",\"44\",\"45\",\"46\",\"47\",\"48\",\"49\",\"50\",\"51\",\"52\",\"53\",\"54\",\"55\",\"56\",\"57\",\"58\",\"59\",\"60\",\"61\",\"62\",\"63\",\"64\",\"65\",\"66\",\"67\",\"68\",\"69\",\"70\",\"71\",\"72\",\"73\",\"74\",\"75\",\"76\",\"77\",\"78\",\"79\",\"80\",\"81\",\"82\",\"83\",\"84\",\"85\",\"86\",\"87\",\"88\",\"89\",\"90\",\"91\",\"92\",\"93\",\"94\",\"95\",\"96\",\"97\",\"98\",\"99\"]},\"selected\":{\"id\":\"1075\"},\"selection_policy\":{\"id\":\"1074\"}},\"id\":\"1038\",\"type\":\"ColumnDataSource\"},{\"attributes\":{\"source\":{\"id\":\"1038\"}},\"id\":\"1045\",\"type\":\"CDSView\"},{\"attributes\":{},\"id\":\"1016\",\"type\":\"BasicTicker\"},{\"attributes\":{\"text\":\"\",\"text_color\":{\"value\":\"black\"},\"text_font_size\":{\"value\":\"12pt\"}},\"id\":\"1007\",\"type\":\"Title\"},{\"attributes\":{\"axis\":{\"id\":\"1015\"},\"grid_line_color\":null,\"ticker\":null},\"id\":\"1018\",\"type\":\"Grid\"},{\"attributes\":{\"below\":[{\"id\":\"1015\"}],\"center\":[{\"id\":\"1018\"},{\"id\":\"1022\"}],\"left\":[{\"id\":\"1019\"}],\"margin\":[5,5,5,5],\"min_border_bottom\":10,\"min_border_left\":10,\"min_border_right\":10,\"min_border_top\":10,\"renderers\":[{\"id\":\"1051\"}],\"sizing_mode\":\"fixed\",\"title\":{\"id\":\"1007\"},\"toolbar\":{\"id\":\"1030\"},\"x_range\":{\"id\":\"1003\"},\"x_scale\":{\"id\":\"1011\"},\"y_range\":{\"id\":\"1004\"},\"y_scale\":{\"id\":\"1013\"}},\"id\":\"1006\",\"subtype\":\"Figure\",\"type\":\"Plot\"},{\"attributes\":{\"axis_label\":\"x\",\"bounds\":\"auto\",\"formatter\":{\"id\":\"1064\"},\"major_label_orientation\":\"horizontal\",\"ticker\":{\"id\":\"1016\"},\"visible\":false},\"id\":\"1015\",\"type\":\"LinearAxis\"},{\"attributes\":{},\"id\":\"1025\",\"type\":\"WheelZoomTool\"},{\"attributes\":{},\"id\":\"1013\",\"type\":\"LinearScale\"},{\"attributes\":{\"axis_label\":\"y\",\"bounds\":\"auto\",\"formatter\":{\"id\":\"1066\"},\"major_label_orientation\":\"horizontal\",\"ticker\":{\"id\":\"1020\"},\"visible\":false},\"id\":\"1019\",\"type\":\"LinearAxis\"},{\"attributes\":{\"axis\":{\"id\":\"1019\"},\"dimension\":1,\"grid_line_color\":null,\"ticker\":null},\"id\":\"1022\",\"type\":\"Grid\"},{\"attributes\":{\"data\":{\"end\":[10,11,12,13,14,15,16,17,18,19,20,21,22,23,24,25,26,27,28,29,30,31,32,33,34,35,36,37,38,39,40,41,42,43,44,45,46,47,48,49,50,51,52,53,54,55,56,57,58,59,60,61,62,63,64,65,66,67,68,69,70,71,72,73,74,75,76,77,78,79,80,81,82,83,84,85,86,87,88,89,90,91,92,93,94,95,96,97,98,99],\"start\":[0,1,1,1,2,3,3,4,8,9,10,10,10,11,13,13,16,18,18,19,20,22,23,23,24,26,26,27,28,29,31,31,31,32,33,34,35,35,35,36,40,41,41,44,45,46,47,48,48,49,50,51,51,53,53,54,54,55,59,59,61,62,63,63,64,65,65,65,66,67,71,72,72,73,74,74,76,77,78,79,80,80,81,83,83,84,85,85,86,88]},\"selected\":{\"id\":\"1077\"},\"selection_policy\":{\"id\":\"1076\"}},\"id\":\"1039\",\"type\":\"ColumnDataSource\"},{\"attributes\":{},\"id\":\"1020\",\"type\":\"BasicTicker\"},{\"attributes\":{},\"id\":\"1066\",\"type\":\"BasicTickFormatter\"},{\"attributes\":{},\"id\":\"1023\",\"type\":\"SaveTool\"},{\"attributes\":{\"overlay\":{\"id\":\"1029\"}},\"id\":\"1026\",\"type\":\"BoxZoomTool\"},{\"attributes\":{},\"id\":\"1027\",\"type\":\"ResetTool\"},{\"attributes\":{},\"id\":\"1011\",\"type\":\"LinearScale\"},{\"attributes\":{},\"id\":\"1077\",\"type\":\"Selection\"},{\"attributes\":{\"callback\":null},\"id\":\"1028\",\"type\":\"TapTool\"},{\"attributes\":{\"active_drag\":\"auto\",\"active_inspect\":\"auto\",\"active_multi\":null,\"active_scroll\":\"auto\",\"active_tap\":\"auto\",\"tools\":[{\"id\":\"1005\"},{\"id\":\"1023\"},{\"id\":\"1024\"},{\"id\":\"1025\"},{\"id\":\"1026\"},{\"id\":\"1027\"},{\"id\":\"1028\"}]},\"id\":\"1030\",\"type\":\"Toolbar\"},{\"attributes\":{\"margin\":[5,5,5,5],\"name\":\"HSpacer03572\",\"sizing_mode\":\"stretch_width\"},\"id\":\"1002\",\"type\":\"Spacer\"},{\"attributes\":{\"children\":[{\"id\":\"1002\"},{\"id\":\"1006\"},{\"id\":\"1088\"}],\"margin\":[0,0,0,0],\"name\":\"Row03568\",\"tags\":[\"embedded\"]},\"id\":\"1001\",\"type\":\"Row\"},{\"attributes\":{\"margin\":[5,5,5,5],\"name\":\"HSpacer03573\",\"sizing_mode\":\"stretch_width\"},\"id\":\"1088\",\"type\":\"Spacer\"},{\"attributes\":{},\"id\":\"1060\",\"type\":\"NodesAndLinkedEdges\"},{\"attributes\":{},\"id\":\"1074\",\"type\":\"UnionRenderers\"},{\"attributes\":{},\"id\":\"1062\",\"type\":\"NodesAndLinkedEdges\"},{\"attributes\":{\"fill_color\":{\"value\":\"limegreen\"},\"size\":{\"units\":\"screen\",\"value\":8}},\"id\":\"1043\",\"type\":\"Circle\"},{\"attributes\":{\"graph_layout\":{\"0\":[0,10],\"1\":[1,10],\"10\":[0,9],\"11\":[1,9],\"12\":[2,9],\"13\":[3,9],\"14\":[4,9],\"15\":[5,9],\"16\":[6,9],\"17\":[7,9],\"18\":[8,9],\"19\":[9,9],\"2\":[2,10],\"20\":[0,8],\"21\":[1,8],\"22\":[2,8],\"23\":[3,8],\"24\":[4,8],\"25\":[5,8],\"26\":[6,8],\"27\":[7,8],\"28\":[8,8],\"29\":[9,8],\"3\":[3,10],\"30\":[0,7],\"31\":[1,7],\"32\":[2,7],\"33\":[3,7],\"34\":[4,7],\"35\":[5,7],\"36\":[6,7],\"37\":[7,7],\"38\":[8,7],\"39\":[9,7],\"4\":[4,10],\"40\":[0,6],\"41\":[1,6],\"42\":[2,6],\"43\":[3,6],\"44\":[4,6],\"45\":[5,6],\"46\":[6,6],\"47\":[7,6],\"48\":[8,6],\"49\":[9,6],\"5\":[5,10],\"50\":[0,5],\"51\":[1,5],\"52\":[2,5],\"53\":[3,5],\"54\":[4,5],\"55\":[5,5],\"56\":[6,5],\"57\":[7,5],\"58\":[8,5],\"59\":[9,5],\"6\":[6,10],\"60\":[0,4],\"61\":[1,4],\"62\":[2,4],\"63\":[3,4],\"64\":[4,4],\"65\":[5,4],\"66\":[6,4],\"67\":[7,4],\"68\":[8,4],\"69\":[9,4],\"7\":[7,10],\"70\":[0,3],\"71\":[1,3],\"72\":[2,3],\"73\":[3,3],\"74\":[4,3],\"75\":[5,3],\"76\":[6,3],\"77\":[7,3],\"78\":[8,3],\"79\":[9,3],\"8\":[8,10],\"80\":[0,2],\"81\":[1,2],\"82\":[2,2],\"83\":[3,2],\"84\":[4,2],\"85\":[5,2],\"86\":[6,2],\"87\":[7,2],\"88\":[8,2],\"89\":[9,2],\"9\":[9,10],\"90\":[0,1],\"91\":[1,1],\"92\":[2,1],\"93\":[3,1],\"94\":[4,1],\"95\":[5,1],\"96\":[6,1],\"97\":[7,1],\"98\":[8,1],\"99\":[9,1]}},\"id\":\"1040\",\"type\":\"StaticLayoutProvider\"},{\"attributes\":{},\"id\":\"1064\",\"type\":\"BasicTickFormatter\"},{\"attributes\":{},\"id\":\"1076\",\"type\":\"UnionRenderers\"},{\"attributes\":{\"data_source\":{\"id\":\"1039\"},\"glyph\":{\"id\":\"1046\"},\"hover_glyph\":{\"id\":\"1048\"},\"muted_glyph\":null,\"nonselection_glyph\":{\"id\":\"1047\"},\"selection_glyph\":null,\"view\":{\"id\":\"1050\"}},\"id\":\"1049\",\"type\":\"GlyphRenderer\"},{\"attributes\":{\"fill_color\":{\"value\":\"#30a2da\"},\"size\":{\"units\":\"screen\",\"value\":8}},\"id\":\"1041\",\"type\":\"Circle\"},{\"attributes\":{\"line_alpha\":{\"value\":0.2}},\"id\":\"1047\",\"type\":\"MultiLine\"},{\"attributes\":{\"fill_alpha\":{\"value\":0.2},\"fill_color\":{\"value\":\"#30a2da\"},\"line_alpha\":{\"value\":0.2},\"size\":{\"units\":\"screen\",\"value\":8}},\"id\":\"1042\",\"type\":\"Circle\"},{\"attributes\":{\"line_color\":{\"value\":\"limegreen\"}},\"id\":\"1048\",\"type\":\"MultiLine\"},{\"attributes\":{\"edge_renderer\":{\"id\":\"1049\"},\"inspection_policy\":{\"id\":\"1062\"},\"layout_provider\":{\"id\":\"1040\"},\"node_renderer\":{\"id\":\"1044\"},\"selection_policy\":{\"id\":\"1060\"}},\"id\":\"1051\",\"type\":\"GraphRenderer\"},{\"attributes\":{\"data_source\":{\"id\":\"1038\"},\"glyph\":{\"id\":\"1041\"},\"hover_glyph\":{\"id\":\"1043\"},\"muted_glyph\":null,\"nonselection_glyph\":{\"id\":\"1042\"},\"selection_glyph\":null,\"view\":{\"id\":\"1045\"}},\"id\":\"1044\",\"type\":\"GlyphRenderer\"},{\"attributes\":{},\"id\":\"1046\",\"type\":\"MultiLine\"},{\"attributes\":{},\"id\":\"1075\",\"type\":\"Selection\"},{\"attributes\":{\"bottom_units\":\"screen\",\"fill_alpha\":0.5,\"fill_color\":\"lightgrey\",\"left_units\":\"screen\",\"level\":\"overlay\",\"line_alpha\":1.0,\"line_color\":\"black\",\"line_dash\":[4,4],\"line_width\":2,\"right_units\":\"screen\",\"top_units\":\"screen\"},\"id\":\"1029\",\"type\":\"BoxAnnotation\"},{\"attributes\":{\"callback\":null,\"renderers\":[{\"id\":\"1051\"}],\"tags\":[\"hv_created\"],\"tooltips\":[[\"index\",\"@{index_hover}\"]]},\"id\":\"1005\",\"type\":\"HoverTool\"},{\"attributes\":{\"source\":{\"id\":\"1039\"}},\"id\":\"1050\",\"type\":\"CDSView\"},{\"attributes\":{\"end\":9.9,\"reset_end\":9.9,\"reset_start\":-0.9,\"start\":-0.9,\"tags\":[[[\"x\",\"x\",null]]]},\"id\":\"1003\",\"type\":\"Range1d\"},{\"attributes\":{\"end\":10.9,\"reset_end\":10.9,\"reset_start\":0.09999999999999998,\"start\":0.09999999999999998,\"tags\":[[[\"y\",\"y\",null]]]},\"id\":\"1004\",\"type\":\"Range1d\"}],\"root_ids\":[\"1001\"]},\"title\":\"Bokeh Application\",\"version\":\"2.2.3\"}};\n",
       "    var render_items = [{\"docid\":\"6351bd8c-d815-4127-a357-dd1b4d50515e\",\"root_ids\":[\"1001\"],\"roots\":{\"1001\":\"7d281c88-79b6-46c4-a010-01d2edcefd82\"}}];\n",
       "    root.Bokeh.embed.embed_items_notebook(docs_json, render_items);\n",
       "  }\n",
       "  if (root.Bokeh !== undefined && root.Bokeh.Panel !== undefined) {\n",
       "    embed_document(root);\n",
       "  } else {\n",
       "    var attempts = 0;\n",
       "    var timer = setInterval(function(root) {\n",
       "      if (root.Bokeh !== undefined && root.Bokeh.Panel !== undefined) {\n",
       "        clearInterval(timer);\n",
       "        embed_document(root);\n",
       "      } else if (document.readyState == \"complete\") {\n",
       "        attempts++;\n",
       "        if (attempts > 100) {\n",
       "          clearInterval(timer);\n",
       "          console.log(\"Bokeh: ERROR: Unable to run BokehJS code because BokehJS library is missing\");\n",
       "        }\n",
       "      }\n",
       "    }, 10, root)\n",
       "  }\n",
       "})(window);</script>"
      ],
      "text/plain": [
       ":Graph   [start,end]"
      ]
     },
     "execution_count": 11,
     "metadata": {
      "application/vnd.holoviews_exec.v0+json": {
       "id": "1001"
      }
     },
     "output_type": "execute_result"
    }
   ],
   "source": [
    "plot(nodes, edges)"
   ]
  },
  {
   "cell_type": "markdown",
   "metadata": {},
   "source": [
    "First, note that we are only simulating parent-offspring relationships, not mutations or recombination.\n",
    "\n",
    "By looking at chromosomes in the most recent generation, we can see that they share common ancestors. In fact, the sub-trees trace out what we call *genealogies*. Moreover, when going backwards in time two chromosomes merge we say that they *coalesce* into one lineage. Going forward in time, a chromosome would produce two daughter chromosomes. \n",
    "It should also be apparent that, beginning with the first generation, most individuals have no descendants at the last generation. One can show that in this simple model by drift alone some 30% of chromosomes are lost each generation due to binomial sampling. \n",
    "\n",
    "As a consequence, forward simulations spend a lot of resources simulating data that never makes it to the current generation, and can therefore be very inefficient. If, on the other hand, we would be more efficient if we could focus on the sample in the last generation and work our ways back to common ancestors. This is the essence of coalescent models.\n"
   ]
  },
  {
   "cell_type": "markdown",
   "metadata": {},
   "source": [
    "## The coalescent\n",
    "\n",
    "As with the Wright Fisher model I introduce the coalescent process with written code. It shows how easy it is to simulate genealogies with a coalescent simulator for a constant-sized population. In addition, it is easy to add mutations to a genealogy as they can be modelled by a Poisson process and \"sprinkled\" on the branches of a genealogy. Note this key feature: creation of genealogy can be separated from the process of adding mutations."
   ]
  },
  {
   "cell_type": "markdown",
   "metadata": {},
   "source": [
    "We first write a node class to hold information about ancestors, descendants, coalescence time and number of mutations."
   ]
  },
  {
   "cell_type": "code",
   "execution_count": 1,
   "metadata": {
    "collapsed": true
   },
   "outputs": [],
   "source": [
    "class Node(object):\n",
    "    def __init__(self, node_id):\n",
    "        self.id = node_id\n",
    "        self.time = 0.0\n",
    "        self.mutations = 0\n",
    "        self.ancestor = None\n",
    "        self.left = None\n",
    "        self.right = None\n",
    "        \n",
    "    def __str__(self):\n",
    "        return \"Node {}\".format(self.id)"
   ]
  },
  {
   "cell_type": "markdown",
   "metadata": {},
   "source": [
    "Then we add a Tree class that holds the actual tree nodes as a list and performs the simulations."
   ]
  },
  {
   "cell_type": "code",
   "execution_count": 2,
   "metadata": {
    "collapsed": true
   },
   "outputs": [],
   "source": [
    "class Tree(object):\n",
    "    def __init__(self, N = 10):\n",
    "        self.N = N\n",
    "        # A tree with N leaves has 2N-1 nodes in total\n",
    "        self.nodes = [Node(i) for i in np.arange(2*N - 1)]\n",
    "        self.genealogy()\n",
    "           \n",
    "    def _set_times(self):\n",
    "        \"\"\"Set coalescent times. Start with all individuals and add waiting times as exponential variables\n",
    "        with rate proportional to 2/(i*(i-1))\"\"\"\n",
    "        t = 0.0\n",
    "        i = self.N\n",
    "        while i > 1:\n",
    "            t += np.random.exponential(2/(i*(i-1)))\n",
    "            self.nodes[2 * self.N - i].time = t\n",
    "            i = i - 1\n",
    "        \n",
    "    def genealogy(self):\n",
    "        \"\"\"Create genealogy. For current time point, select two nodes at random to coalesce, thereby\n",
    "        creating a new node to choose from in the next time point. Proceed until only one node remains. \n",
    "        Note that the actual coalescence times can be set independently.\"\"\"\n",
    "        self._set_times() # Set times of coalescent events\n",
    "        i = self.N\n",
    "        while i > 1:\n",
    "            k = 2 * self.N - i  # Ancestor node index for new node\n",
    "            # Left child index; select from i orphan nodes (subtract 1 due to array indexing)\n",
    "            j = random.randint(0, i - 1)\n",
    "            self.nodes[j].ancestor = self.nodes[k]\n",
    "            self.nodes[k].left = self.nodes[j]\n",
    "            # Swap j with index i since now we draw from i-1 first nodes\n",
    "            self._swap(j, i - 1)\n",
    "            # Right child index; select from i-1 orphan nodes\n",
    "            j = random.randint(0, i - 2)\n",
    "            self.nodes[j].ancestor = self.nodes[k]\n",
    "            self.nodes[k].right = self.nodes[j]\n",
    "            # Swap j with index k as node k now is an orphan node\n",
    "            self._swap(j, k)\n",
    "            i = i - 1\n",
    "            \n",
    "    def _swap(self, i, j):\n",
    "        tmp = self.nodes[i]\n",
    "        self.nodes[i] = self.nodes[j]\n",
    "        self.nodes[j] = tmp"
   ]
  },
  {
   "cell_type": "markdown",
   "metadata": {},
   "source": [
    "We can now generate genealogies. However, we want to visualize them and therefore add a helper function to convert the tree to Newick format:"
   ]
  },
  {
   "cell_type": "code",
   "execution_count": null,
   "metadata": {
    "collapsed": true
   },
   "outputs": [],
   "source": [
    "def newick(n):\n",
    "    if isinstance(n, Tree):\n",
    "        n = n.nodes[0]\n",
    "    if n.left is not None and n.right is not None:\n",
    "        if n.ancestor is None:\n",
    "        # root\n",
    "            return \"({},{}){};\".format(newick(n.left), newick(n.right), n.id)\n",
    "        else:\n",
    "            return \"({},{}):{}\".format(newick(n.left), newick(n.right), n.ancestor.time - n.time)\n",
    "    else:\n",
    "        # Leaf\n",
    "        return \"{}:{}\".format(n.id, n.ancestor.time - n.time)"
   ]
  },
  {
   "cell_type": "code",
   "execution_count": null,
   "metadata": {
    "collapsed": true
   },
   "outputs": [],
   "source": [
    "tree = Tree(N = 10)\n",
    "pt = Phylo.read(StringIO(newick(tree)), \"newick\")\n",
    "nx = Phylo.to_networkx(pt)\n",
    "print(Phylo.draw(pt))"
   ]
  },
  {
   "cell_type": "markdown",
   "metadata": {},
   "source": [
    "Note how the external branches are short, reflecting the higher intensity of the coalescent process, but as we approach the root of the tree, the waiting times get longer and longer (on average).\n",
    "\n",
    "To summarize, the steps to create a genealogy are (Hahn 2019):\n",
    "\n",
    "1. start with $i=n$ chromosomes\n",
    "2. choose a time until the next coalescence from an exponential distribution with parameter x = i(i-1)/2\n",
    "3. choose two chromosomes at random to coalesce\n",
    "4. merge the two lineages that were chosen and set i -> i - 1\n",
    "5. if i>1 go to step 2; if not stop \n",
    "\n",
    "Genealogies must be treated in a statistical setting, and cannot be observed directly, but are inferred from patterns of polymorphism, i.e. inference relies on segregating sites (Wakely, 2008). So, we need to model mutations."
   ]
  },
  {
   "cell_type": "markdown",
   "metadata": {},
   "source": [
    "## Statistics on tree branch lengths\n",
    "\n",
    "We are typically interested in statistics based on tree branch lengths, such as the time to the most recent common ancestor, the distribution of branch lengths, or the total length of the tree. Importantly, branch lengths are used to distribute mutations on the tree. Here are three helper functions to calculate these statistics:"
   ]
  },
  {
   "cell_type": "code",
   "execution_count": null,
   "metadata": {
    "collapsed": true
   },
   "outputs": [],
   "source": [
    "def t_tot(tree):\n",
    "    return sum((n.ancestor.time - n.time) for n in tree.nodes[1:len(tree.nodes)])\n",
    "    \n",
    "def t_mrca(tree):\n",
    "    return tree.nodes[0].time\n",
    "    \n",
    "def t_i(tree):\n",
    "    return [0.0] + [n.ancestor.time - n.time for n in tree.nodes[1:len(tree.nodes)]]"
   ]
  },
  {
   "cell_type": "markdown",
   "metadata": {},
   "source": [
    "## Adding mutations\n",
    "\n",
    "Mutations can be added in two ways (Hahn 2019):\n",
    "\n",
    "1. Fixed $S$ method: the number of segregating sites is prespecified and distributed on branches in the tree with probability proportional to length of branch\n",
    "2. Generate mutations using a population mutation parameter $\\theta = 4N\\mu$. Mutations are modeled as Poisson events with mean $t * \\theta /  2$. Typically, first generate total number of mutations $S \\sim \\mathsf{Po}(\\mathsf{T_{total}} * \\theta / 2)$ and distribute mutations as in alternative 1.\n",
    "\n",
    "Here we define a function to add mutations following procedure 2."
   ]
  },
  {
   "cell_type": "code",
   "execution_count": null,
   "metadata": {
    "collapsed": true
   },
   "outputs": [],
   "source": [
    "def add_mutations(tree, theta=2.0):\n",
    "    S = np.random.poisson(t_tot(tree) * theta / 2)\n",
    "    print(\"Saw \", S, \" mutations\")\n",
    "    # Distribute mutations over branches where branches are sampled with probability proportional to \n",
    "    # relative branch length\n",
    "    Si = np.random.multinomial(S, np.array(t_i(tree)) / sum(t_i(tree)))\n",
    "    j = -1\n",
    "    for s in Si:\n",
    "        j = j + 1\n",
    "        if s == 0:\n",
    "            continue\n",
    "        n = tree.nodes[j]\n",
    "        print(\"Adding \", s, \" mutations to node \", n.id, \" with branch length \", n.ancestor.time - n.time)\n",
    "        tree.nodes[j].mutations = s\n",
    "    return tree"
   ]
  },
  {
   "cell_type": "code",
   "execution_count": null,
   "metadata": {
    "collapsed": true
   },
   "outputs": [],
   "source": [
    "tree = add_mutations(tree)"
   ]
  },
  {
   "cell_type": "code",
   "execution_count": null,
   "metadata": {
    "collapsed": true
   },
   "outputs": [],
   "source": [
    "[n.mutations for n in tree.nodes]"
   ]
  },
  {
   "cell_type": "markdown",
   "metadata": {},
   "source": [
    "Increasing theta will increase the number of mutations:"
   ]
  },
  {
   "cell_type": "code",
   "execution_count": null,
   "metadata": {
    "collapsed": true
   },
   "outputs": [],
   "source": [
    "tree = add_mutations(tree, theta=10)"
   ]
  },
  {
   "cell_type": "markdown",
   "metadata": {},
   "source": [
    "## Some insights from the simple coalescent\n",
    "\n",
    "Note: the formulas below may differ depending on source. For instance (Wakeley, 2008) sets the rate of the process to 1, and letting $N \\rightarrow \\infty$ a factor 2N can be eliminated from the expressions below that are from (Hahn, 2019)"
   ]
  },
  {
   "cell_type": "markdown",
   "metadata": {},
   "source": [
    "### Probability of a coalescent event\n",
    "\n",
    "The coalescent is a *model* of a Wright-Fisher population. Time is measured in units of the population size (typically $2N$). An important assumption is that $n << N$ (sample size much smaller than population size). This means only one coalescent event can take in simultaneously, i.e. a coalescent event is modelled as a Poisson process with rate proportional to the number of chromosomes.\n",
    "\n",
    "Without selection, ancestors are chosen at random. In other words, each chromosome has equal probability $1/2N$ of being a parent. Then, by multiplication of the number of combinations of $i$ samples \n",
    "\n",
    "$P(i \\rightarrow i - 1) = \\frac{i(i-1)}{4N}$\n"
   ]
  },
  {
   "cell_type": "markdown",
   "metadata": {},
   "source": [
    "### Time between events\n",
    "\n",
    "Expected waiting time between two events is approximated by an exponential distribution with mean\n",
    "\n",
    "$E(T_i) = \\frac{4N}{i(i-1)}$\n",
    "\n",
    "Importantly, this means that the rate decreases with number of chromosomes, and on average the longest waiting time is for the last two chromosomes to coalesce."
   ]
  },
  {
   "cell_type": "markdown",
   "metadata": {},
   "source": [
    "### Height of coalescent genealogy\n",
    "\n",
    "The average tree height is simply the sum of the waiting times $T_i$, $T_{i-1}$, ...:\n",
    "\n",
    "$E(T_{MCRA}) = 4N\\left(1 - \\frac{1}{n}\\right)$\n",
    "\n",
    "As $n\\rightarrow \\infty$, the tree height approaches 4N."
   ]
  },
  {
   "cell_type": "markdown",
   "metadata": {},
   "source": [
    "### Total tree length\n",
    "\n",
    "The sum of all branches in the tree is \n",
    "\n",
    "$E(T_{total}) = \\sum_{i=2}^n i\\frac{4N}{i(i-1)} = 4N \\sum_{i=1}^{n-1} \\frac{1}{n}$\n",
    "\n",
    "Of importance: each new chromosome adds less and less to the total length."
   ]
  },
  {
   "cell_type": "markdown",
   "metadata": {},
   "source": [
    "### More sites better than individuals\n"
   ]
  },
  {
   "cell_type": "code",
   "execution_count": null,
   "metadata": {
    "collapsed": true
   },
   "outputs": [],
   "source": [
    "ns = list(range(2, 101))\n",
    "df = {'x': ns, \n",
    "      'height': [4 * (1 - 1/n) for n in ns],\n",
    "      'length': [4 * (sum([1/k for k in np.arange(1, n-1)])) for n in ns]}\n",
    "s1 = hv.Curve((df['x'], df['height']), label = \"E[T_total]\").opts(color=\"black\")\n",
    "s2 = hv.Curve((df['x'], df['length']), label = \"E[T_MRCA]\").opts(color=\"red\")\n",
    "p1 = hv.Curve((df['x'], [4] * len(ns)))\n",
    "e = p1 * s1 * s2\n",
    "e.opts(width=600).redim.label(x=\"sample size (n)\", y = \"length in units of N\")"
   ]
  },
  {
   "cell_type": "markdown",
   "metadata": {},
   "source": [
    "# The coalescent with msprime"
   ]
  },
  {
   "cell_type": "markdown",
   "metadata": {},
   "source": [
    "Until now I have demonstraded how easy it is to perform coalescent simulations with constant population size and without recombination. Adding recombination however results in a much more difficult problem. The genealogies turn into *ancestral recombination graphs* (ARGs) that can diverge as we look back in time. Since we typically want to model more complex scenarios, and for that reason we now use msprime (Kelleher, Etheridge, and McVean 2016). msprime is a python implementation and *much* faster implementation of the seminal ms program (Hudson 2002). We'll start by looking at a simple msprime example, where we add complexity as we go along."
   ]
  },
  {
   "cell_type": "code",
   "execution_count": 5,
   "metadata": {
    "collapsed": true
   },
   "outputs": [],
   "source": [
    "import msprime\n",
    "from IPython.display import SVG"
   ]
  },
  {
   "cell_type": "markdown",
   "metadata": {},
   "source": [
    "## Simulating a genealogy"
   ]
  },
  {
   "cell_type": "markdown",
   "metadata": {},
   "source": [
    "Coalescent simulations create genealogies on which random mutations are sprinkled to introduce sequence variation. To begin with, we show the simplest command for simulating a small sample (n=4) of 10kb sequences from a population with a diploid effective population size 1000 (𝑁𝑒=1000) and printing a genealogy:"
   ]
  },
  {
   "cell_type": "code",
   "execution_count": 26,
   "metadata": {},
   "outputs": [
    {
     "name": "stdout",
     "output_type": "stream",
     "text": [
      "    6  \n",
      "  ┏━┻━┓\n",
      "  5   ┃\n",
      " ┏┻━┓ ┃\n",
      " 4  ┃ ┃\n",
      "┏┻┓ ┃ ┃\n",
      "0 3 2 1\n",
      "\n"
     ]
    }
   ],
   "source": [
    "tree_sequence = msprime.simulate(sample_size=4, Ne=1000, length=1e4, random_seed=52)\n",
    "tree = tree_sequence.first()\n",
    "print(tree.draw(format=\"unicode\"))"
   ]
  },
  {
   "cell_type": "markdown",
   "metadata": {},
   "source": [
    "We can also display the tree in svg format as it allows to show the branch lengths and where mutations occur on the tree, and also to draw all tree sequences simultaneously:"
   ]
  },
  {
   "cell_type": "code",
   "execution_count": 27,
   "metadata": {},
   "outputs": [
    {
     "data": {
      "image/svg+xml": [
       "<svg xmlns=\"http://www.w3.org/2000/svg\" xmlns:ev=\"http://www.w3.org/2001/xml-events\" xmlns:xlink=\"http://www.w3.org/1999/xlink\" baseProfile=\"full\" height=\"200\" version=\"1.1\" width=\"200\"><defs><style type=\"text/css\"><![CDATA[.axis {font-weight: bold}.tree, .axis {font-size: 14px; text-anchor:middle}.edge {stroke: black; fill: none}.node > .sym {fill: black; stroke: none}.tree text {dominant-baseline: middle}.tree .lab.lft {text-anchor: end}.tree .lab.rgt {text-anchor: start}.mut {fill: red; font-style: italic}]]></style></defs><g class=\"tree-sequence\"><g class=\"background\"><polygon fill=\"#F1F1F1\" points=\"20,185 20,180 20,160 20,0 180.0,0 180.0,160 180.0,180 180.0,185\"/></g><g class=\"trees\"><g class=\"treebox t0\" transform=\"translate(20 30)\"><g class=\"tree t0\"><g class=\"node n6 p0 root\" transform=\"translate(97.5 30.0)\"><g class=\"a6 leaf node n1 p0 sample\" transform=\"translate(24.5 80.0)\"><path class=\"edge\" d=\"M 0 0 V -80.0 H -24.5\"/><circle class=\"sym\" cx=\"0\" cy=\"0\" r=\"3\"/><text class=\"lab\" transform=\"translate(0 12)\">1</text></g><g class=\"a6 node n5 p0\" transform=\"translate(-24.5 59.0682)\"><g class=\"a5 leaf node n2 p0 sample\" transform=\"translate(21.0 20.9318)\"><path class=\"edge\" d=\"M 0 0 V -20.9318 H -21.0\"/><circle class=\"sym\" cx=\"0\" cy=\"0\" r=\"3\"/><text class=\"lab\" transform=\"translate(0 12)\">2</text></g><g class=\"a5 node n4 p0\" transform=\"translate(-21.0 3.23145)\"><g class=\"a4 leaf node n0 p0 sample\" transform=\"translate(-14.0 17.7004)\"><path class=\"edge\" d=\"M 0 0 V -17.7004 H 14.0\"/><circle class=\"sym\" cx=\"0\" cy=\"0\" r=\"3\"/><text class=\"lab\" transform=\"translate(0 12)\">0</text></g><g class=\"a4 leaf node n3 p0 sample\" transform=\"translate(14.0 17.7004)\"><path class=\"edge\" d=\"M 0 0 V -17.7004 H -14.0\"/><circle class=\"sym\" cx=\"0\" cy=\"0\" r=\"3\"/><text class=\"lab\" transform=\"translate(0 12)\">3</text></g><path class=\"edge\" d=\"M 0 0 V -3.23145 H 21.0\"/><circle class=\"sym\" cx=\"0\" cy=\"0\" r=\"3\"/><text class=\"lab lft\" transform=\"translate(-3 -6)\">4</text></g><path class=\"edge\" d=\"M 0 0 V -59.0682 H 24.5\"/><circle class=\"sym\" cx=\"0\" cy=\"0\" r=\"3\"/><text class=\"lab lft\" transform=\"translate(-3 -6)\">5</text></g><circle class=\"sym\" cx=\"0\" cy=\"0\" r=\"3\"/><text class=\"lab\" transform=\"translate(0 -10)\">6</text></g></g></g></g><g class=\"axis\"><line stroke=\"black\" x1=\"20\" x2=\"180\" y1=\"180\" y2=\"180\"/><line stroke=\"black\" x1=\"20\" x2=\"20\" y1=\"180\" y2=\"185\"/><g transform=\"translate(20, 200)\"><text font-size=\"14\" font-weight=\"bold\" text-anchor=\"middle\">0</text></g><line stroke=\"black\" x1=\"180.0\" x2=\"180.0\" y1=\"180\" y2=\"185\"/><g transform=\"translate(180.0, 200)\"><text font-size=\"14\" font-weight=\"bold\" text-anchor=\"middle\">10000</text></g></g></g></svg>"
      ],
      "text/plain": [
       "<IPython.core.display.SVG object>"
      ]
     },
     "metadata": {},
     "output_type": "display_data"
    }
   ],
   "source": [
    "display(SVG(tree_sequence.draw_svg()))"
   ]
  },
  {
   "cell_type": "markdown",
   "metadata": {},
   "source": [
    "The `tree_sequence` object is a so-called succinct (compact) data structure representation of trees along the sequence, based on the fact that neighbouring genomic regions have correlated genealogical histories. The interested reader can consult the tskit documentation (https://tskit.readthedocs.io/en/latest/data-model.html?highlight=succinct#definitions) for more information. As the name implies, it consists of a sequence of trees, where a tree represents a part of the sequence that has a given genealogy. Since we have no recombination events, there should only be one tree:"
   ]
  },
  {
   "cell_type": "code",
   "execution_count": 17,
   "metadata": {},
   "outputs": [
    {
     "data": {
      "text/plain": [
       "1"
      ]
     },
     "execution_count": 17,
     "metadata": {},
     "output_type": "execute_result"
    }
   ],
   "source": [
    "len(list(tree_sequence.trees()))"
   ]
  },
  {
   "cell_type": "markdown",
   "metadata": {},
   "source": [
    "## Adding recombination"
   ]
  },
  {
   "cell_type": "markdown",
   "metadata": {},
   "source": [
    "Recombination events are added via the `recombination_rate` parameter, typically denoted `r` and given as rate per base per generation:"
   ]
  },
  {
   "cell_type": "code",
   "execution_count": 6,
   "metadata": {},
   "outputs": [],
   "source": [
    "tree_sequence = msprime.simulate(sample_size=4, Ne=1000, length=1e4, random_seed=55, recombination_rate=2e-8)"
   ]
  },
  {
   "cell_type": "markdown",
   "metadata": {},
   "source": [
    "Now, because of recombination, different parts of the sequence will have different histories, or genealogies. Consequently, we have several trees along the sequence:"
   ]
  },
  {
   "cell_type": "code",
   "execution_count": 7,
   "metadata": {},
   "outputs": [
    {
     "data": {
      "text/plain": [
       "4"
      ]
     },
     "execution_count": 7,
     "metadata": {},
     "output_type": "execute_result"
    }
   ],
   "source": [
    "len(list(tree_sequence.trees()))"
   ]
  },
  {
   "cell_type": "markdown",
   "metadata": {},
   "source": [
    "where the lengths of the non-recombining segments and the genealogies of the segments can be obtained as follows:"
   ]
  },
  {
   "cell_type": "code",
   "execution_count": 8,
   "metadata": {},
   "outputs": [
    {
     "name": "stdout",
     "output_type": "stream",
     "text": [
      "--------------------\n",
      "tree 0: interval = (0.0, 1820.1461112639274)\n",
      "  8    \n",
      "┏━┻━┓  \n",
      "┃   7  \n",
      "┃ ┏━┻┓ \n",
      "┃ ┃  5 \n",
      "┃ ┃ ┏┻┓\n",
      "0 2 1 3\n",
      "\n",
      "--------------------\n",
      "tree 1: interval = (1820.1461112639274, 8028.082481591981)\n",
      "  8    \n",
      "┏━┻━┓  \n",
      "┃   6  \n",
      "┃ ┏━┻┓ \n",
      "┃ ┃  5 \n",
      "┃ ┃ ┏┻┓\n",
      "2 0 1 3\n",
      "\n",
      "--------------------\n",
      "tree 2: interval = (8028.082481591981, 8866.236572821215)\n",
      "  9    \n",
      "┏━┻━┓  \n",
      "┃   6  \n",
      "┃ ┏━┻┓ \n",
      "┃ ┃  5 \n",
      "┃ ┃ ┏┻┓\n",
      "2 0 1 3\n",
      "\n",
      "--------------------\n",
      "tree 3: interval = (8866.236572821215, 10000.0)\n",
      "  9    \n",
      "┏━┻━┓  \n",
      "┃   5  \n",
      "┃ ┏━┻┓ \n",
      "┃ ┃  4 \n",
      "┃ ┃ ┏┻┓\n",
      "2 1 0 3\n",
      "\n"
     ]
    }
   ],
   "source": [
    "for tree in tree_sequence.trees():\n",
    "...     print(\"-\" * 20)\n",
    "...     print(\"tree {}: interval = {}\".format(tree.index, tree.interval))\n",
    "...     print(tree.draw(format=\"unicode\"))"
   ]
  },
  {
   "cell_type": "markdown",
   "metadata": {},
   "source": [
    "Plotted in svg format, we see the tree sequence along the sequence:"
   ]
  },
  {
   "cell_type": "code",
   "execution_count": 9,
   "metadata": {},
   "outputs": [
    {
     "data": {
      "image/svg+xml": [
       "<svg baseProfile=\"full\" height=\"200\" version=\"1.1\" width=\"800\" xmlns=\"http://www.w3.org/2000/svg\" xmlns:ev=\"http://www.w3.org/2001/xml-events\" xmlns:xlink=\"http://www.w3.org/1999/xlink\"><defs><g id=\"tree_0\"><g fill=\"none\" id=\"edges\" stroke=\"black\"><path d=\"M 44.0 140.0 V 30.9591617011138 H 73.75\" id=\"edge_0_0\"/><path d=\"M 103.5 63.9823731598096 V 30.9591617011138 H 73.75\" id=\"edge_0_7\"/><path d=\"M 78.0 140.0 V 63.9823731598096 H 103.5\" id=\"edge_0_2\"/><path d=\"M 129.0 128.23608784775442 V 63.9823731598096 H 103.5\" id=\"edge_0_5\"/><path d=\"M 112.0 140.0 V 128.23608784775442 H 129.0\" id=\"edge_0_1\"/><path d=\"M 146.0 140.0 V 128.23608784775442 H 129.0\" id=\"edge_0_3\"/></g><g id=\"symbols\"><g class=\"nodes\"><circle cx=\"73.75\" cy=\"30.9591617011138\" id=\"node_0_8\" r=\"3\"/><circle cx=\"44.0\" cy=\"140.0\" id=\"node_0_0\" r=\"3\"/><circle cx=\"103.5\" cy=\"63.9823731598096\" id=\"node_0_7\" r=\"3\"/><circle cx=\"78.0\" cy=\"140.0\" id=\"node_0_2\" r=\"3\"/><circle cx=\"129.0\" cy=\"128.23608784775442\" id=\"node_0_5\" r=\"3\"/><circle cx=\"112.0\" cy=\"140.0\" id=\"node_0_1\" r=\"3\"/><circle cx=\"146.0\" cy=\"140.0\" id=\"node_0_3\" r=\"3\"/></g><g class=\"mutations\" fill=\"red\"/></g><g font-size=\"14\" id=\"labels\"><g class=\"nodes\"><g text-anchor=\"start\"><text x=\"108.5\" y=\"58.9823731598096\">7</text><text x=\"134.0\" y=\"123.23608784775442\">5</text></g><g text-anchor=\"middle\"><text x=\"73.75\" y=\"25.9591617011138\">8</text><text x=\"44.0\" y=\"160.0\">0</text><text x=\"78.0\" y=\"160.0\">2</text><text x=\"112.0\" y=\"160.0\">1</text><text x=\"146.0\" y=\"160.0\">3</text></g><g text-anchor=\"end\"/></g><g class=\"mutations\" font-style=\"italic\"><g text-anchor=\"start\"/><g text-anchor=\"end\"/></g></g></g><g id=\"tree_1\"><g fill=\"none\" id=\"edges\" stroke=\"black\"><path d=\"M 44.0 140.0 V 30.9591617011138 H 73.75\" id=\"edge_1_2\"/><path d=\"M 103.5 67.31267309867803 V 30.9591617011138 H 73.75\" id=\"edge_1_6\"/><path d=\"M 78.0 140.0 V 67.31267309867803 H 103.5\" id=\"edge_1_0\"/><path d=\"M 129.0 128.23608784775442 V 67.31267309867803 H 103.5\" id=\"edge_1_5\"/><path d=\"M 112.0 140.0 V 128.23608784775442 H 129.0\" id=\"edge_1_1\"/><path d=\"M 146.0 140.0 V 128.23608784775442 H 129.0\" id=\"edge_1_3\"/></g><g id=\"symbols\"><g class=\"nodes\"><circle cx=\"73.75\" cy=\"30.9591617011138\" id=\"node_1_8\" r=\"3\"/><circle cx=\"44.0\" cy=\"140.0\" id=\"node_1_2\" r=\"3\"/><circle cx=\"103.5\" cy=\"67.31267309867803\" id=\"node_1_6\" r=\"3\"/><circle cx=\"78.0\" cy=\"140.0\" id=\"node_1_0\" r=\"3\"/><circle cx=\"129.0\" cy=\"128.23608784775442\" id=\"node_1_5\" r=\"3\"/><circle cx=\"112.0\" cy=\"140.0\" id=\"node_1_1\" r=\"3\"/><circle cx=\"146.0\" cy=\"140.0\" id=\"node_1_3\" r=\"3\"/></g><g class=\"mutations\" fill=\"red\"/></g><g font-size=\"14\" id=\"labels\"><g class=\"nodes\"><g text-anchor=\"start\"><text x=\"108.5\" y=\"62.31267309867803\">6</text><text x=\"134.0\" y=\"123.23608784775442\">5</text></g><g text-anchor=\"middle\"><text x=\"73.75\" y=\"25.9591617011138\">8</text><text x=\"44.0\" y=\"160.0\">2</text><text x=\"78.0\" y=\"160.0\">0</text><text x=\"112.0\" y=\"160.0\">1</text><text x=\"146.0\" y=\"160.0\">3</text></g><g text-anchor=\"end\"/></g><g class=\"mutations\" font-style=\"italic\"><g text-anchor=\"start\"/><g text-anchor=\"end\"/></g></g></g><g id=\"tree_2\"><g fill=\"none\" id=\"edges\" stroke=\"black\"><path d=\"M 44.0 140.0 V 30.0 H 73.75\" id=\"edge_2_2\"/><path d=\"M 103.5 67.31267309867803 V 30.0 H 73.75\" id=\"edge_2_6\"/><path d=\"M 78.0 140.0 V 67.31267309867803 H 103.5\" id=\"edge_2_0\"/><path d=\"M 129.0 128.23608784775442 V 67.31267309867803 H 103.5\" id=\"edge_2_5\"/><path d=\"M 112.0 140.0 V 128.23608784775442 H 129.0\" id=\"edge_2_1\"/><path d=\"M 146.0 140.0 V 128.23608784775442 H 129.0\" id=\"edge_2_3\"/></g><g id=\"symbols\"><g class=\"nodes\"><circle cx=\"73.75\" cy=\"30.0\" id=\"node_2_9\" r=\"3\"/><circle cx=\"44.0\" cy=\"140.0\" id=\"node_2_2\" r=\"3\"/><circle cx=\"103.5\" cy=\"67.31267309867803\" id=\"node_2_6\" r=\"3\"/><circle cx=\"78.0\" cy=\"140.0\" id=\"node_2_0\" r=\"3\"/><circle cx=\"129.0\" cy=\"128.23608784775442\" id=\"node_2_5\" r=\"3\"/><circle cx=\"112.0\" cy=\"140.0\" id=\"node_2_1\" r=\"3\"/><circle cx=\"146.0\" cy=\"140.0\" id=\"node_2_3\" r=\"3\"/></g><g class=\"mutations\" fill=\"red\"/></g><g font-size=\"14\" id=\"labels\"><g class=\"nodes\"><g text-anchor=\"start\"><text x=\"108.5\" y=\"62.31267309867803\">6</text><text x=\"134.0\" y=\"123.23608784775442\">5</text></g><g text-anchor=\"middle\"><text x=\"73.75\" y=\"25.0\">9</text><text x=\"44.0\" y=\"160.0\">2</text><text x=\"78.0\" y=\"160.0\">0</text><text x=\"112.0\" y=\"160.0\">1</text><text x=\"146.0\" y=\"160.0\">3</text></g><g text-anchor=\"end\"/></g><g class=\"mutations\" font-style=\"italic\"><g text-anchor=\"start\"/><g text-anchor=\"end\"/></g></g></g><g id=\"tree_3\"><g fill=\"none\" id=\"edges\" stroke=\"black\"><path d=\"M 44.0 140.0 V 30.0 H 73.75\" id=\"edge_3_2\"/><path d=\"M 103.5 128.23608784775442 V 30.0 H 73.75\" id=\"edge_3_5\"/><path d=\"M 78.0 140.0 V 128.23608784775442 H 103.5\" id=\"edge_3_1\"/><path d=\"M 129.0 134.09520213196163 V 128.23608784775442 H 103.5\" id=\"edge_3_4\"/><path d=\"M 112.0 140.0 V 134.09520213196163 H 129.0\" id=\"edge_3_0\"/><path d=\"M 146.0 140.0 V 134.09520213196163 H 129.0\" id=\"edge_3_3\"/></g><g id=\"symbols\"><g class=\"nodes\"><circle cx=\"73.75\" cy=\"30.0\" id=\"node_3_9\" r=\"3\"/><circle cx=\"44.0\" cy=\"140.0\" id=\"node_3_2\" r=\"3\"/><circle cx=\"103.5\" cy=\"128.23608784775442\" id=\"node_3_5\" r=\"3\"/><circle cx=\"78.0\" cy=\"140.0\" id=\"node_3_1\" r=\"3\"/><circle cx=\"129.0\" cy=\"134.09520213196163\" id=\"node_3_4\" r=\"3\"/><circle cx=\"112.0\" cy=\"140.0\" id=\"node_3_0\" r=\"3\"/><circle cx=\"146.0\" cy=\"140.0\" id=\"node_3_3\" r=\"3\"/></g><g class=\"mutations\" fill=\"red\"/></g><g font-size=\"14\" id=\"labels\"><g class=\"nodes\"><g text-anchor=\"start\"><text x=\"108.5\" y=\"123.23608784775442\">5</text><text x=\"134.0\" y=\"129.09520213196163\">4</text></g><g text-anchor=\"middle\"><text x=\"73.75\" y=\"25.0\">9</text><text x=\"44.0\" y=\"160.0\">2</text><text x=\"78.0\" y=\"160.0\">1</text><text x=\"112.0\" y=\"160.0\">0</text><text x=\"146.0\" y=\"160.0\">3</text></g><g text-anchor=\"end\"/></g><g class=\"mutations\" font-style=\"italic\"><g text-anchor=\"start\"/><g text-anchor=\"end\"/></g></g></g></defs><use x=\"20\" xlink:href=\"#tree_0\" y=\"15\"/><use x=\"210.0\" xlink:href=\"#tree_1\" y=\"15\"/><use x=\"400.0\" xlink:href=\"#tree_2\" y=\"15\"/><use x=\"590.0\" xlink:href=\"#tree_3\" y=\"15\"/><line stroke=\"black\" x1=\"20\" x2=\"780\" y1=\"180\" y2=\"180\"/><line stroke=\"black\" x1=\"20\" x2=\"20\" y1=\"175\" y2=\"185\"/><text font-size=\"14\" font-weight=\"bold\" text-anchor=\"middle\" x=\"20\" y=\"200\">0.00</text><line stroke=\"black\" x1=\"210.0\" x2=\"210.0\" y1=\"175\" y2=\"185\"/><text font-size=\"14\" font-weight=\"bold\" text-anchor=\"middle\" x=\"210.0\" y=\"200\">1820.15</text><line stroke=\"black\" x1=\"400.0\" x2=\"400.0\" y1=\"175\" y2=\"185\"/><text font-size=\"14\" font-weight=\"bold\" text-anchor=\"middle\" x=\"400.0\" y=\"200\">8028.08</text><line stroke=\"black\" x1=\"590.0\" x2=\"590.0\" y1=\"175\" y2=\"185\"/><text font-size=\"14\" font-weight=\"bold\" text-anchor=\"middle\" x=\"590.0\" y=\"200\">8866.24</text><line stroke=\"black\" x1=\"780.0\" x2=\"780.0\" y1=\"175\" y2=\"185\"/><text font-size=\"14\" font-weight=\"bold\" text-anchor=\"middle\" x=\"780.0\" y=\"200\">10000.00</text></svg>"
      ],
      "text/plain": [
       "<IPython.core.display.SVG object>"
      ]
     },
     "metadata": {},
     "output_type": "display_data"
    }
   ],
   "source": [
    "display(SVG(tree_sequence.draw_svg()))"
   ]
  },
  {
   "cell_type": "markdown",
   "metadata": {},
   "source": [
    "If you study the sequence of trees, you see that they change along the sequence, reflecting the fact that they due to recombination have separate histories. Note also that neighbouring trees are correlated, that is, they have similar topologies. One can transform a tree to a neigbouring tree via simple subtree prune and regraft operations. This observation may seem to indicate that the trees are Markovian, i.e. the state of a tree only depends on its predecessor. That is not strictly true however as there are more long-range correlations. However, this assumption is often made in so-called Sequentially Markovian Coalescent models, on which for instance PSMC and MSMC are based. Also, note that the figure is an example of a sequential visualization of the ARG."
   ]
  },
  {
   "cell_type": "markdown",
   "metadata": {},
   "source": [
    "This means that if we could infer genealogies along a sequence, we could also infer the recombination break points. However, as we do not observe genealogies, but rather sequence alignments (of the leaves of the tree), in order to infer genealogies, we need sequence variation, or mutations. Mutations are added by applying the `mutation_rate` parameter, as we will see in the next section."
   ]
  },
  {
   "cell_type": "markdown",
   "metadata": {},
   "source": [
    "## Adding mutations"
   ]
  },
  {
   "cell_type": "markdown",
   "metadata": {},
   "source": [
    "As alluded to previously, in order to actually infer genealogies, we need sequence variation, introduced via mutations. The mutation rate $\\mu$, given as a rate per base ber generation, is set via the `mutation_rate` parameter:"
   ]
  },
  {
   "cell_type": "code",
   "execution_count": 35,
   "metadata": {},
   "outputs": [
    {
     "name": "stdout",
     "output_type": "stream",
     "text": [
      "Mutation @ position 5211.28 over node 1\n",
      "Mutation @ position 7647.57 over node 5\n",
      "Mutation @ position 9804.29 over node 1\n"
     ]
    }
   ],
   "source": [
    "tree_sequence = msprime.simulate(sample_size=4, Ne=1000, length=1e4, random_seed=52, mutation_rate=4e-8)\n",
    "tree = tree_sequence.first()\n",
    "for site in tree.sites():\n",
    "    for mutation in site.mutations:\n",
    "        print(\"Mutation @ position {:.2f} over node {}\".format(site.position, mutation.node))"
   ]
  },
  {
   "cell_type": "markdown",
   "metadata": {},
   "source": [
    "You may wonder why the positions are not integers. In msprime, mutations are generated under the assumption of the *infinite sites model*, which is why positions are floats, whereas in real life they are integers. This is to prevent a mutation from happening multiple times at one locus."
   ]
  },
  {
   "cell_type": "markdown",
   "metadata": {},
   "source": [
    "We can illustrate where the mutations occur by plotting the tree in svg format:"
   ]
  },
  {
   "cell_type": "code",
   "execution_count": 36,
   "metadata": {},
   "outputs": [
    {
     "data": {
      "image/svg+xml": [
       "<svg xmlns=\"http://www.w3.org/2000/svg\" xmlns:ev=\"http://www.w3.org/2001/xml-events\" xmlns:xlink=\"http://www.w3.org/1999/xlink\" baseProfile=\"full\" height=\"200\" version=\"1.1\" width=\"200\"><defs><style type=\"text/css\"><![CDATA[.axis {font-weight: bold}.tree, .axis {font-size: 14px; text-anchor:middle}.edge {stroke: black; fill: none}.node > .sym {fill: black; stroke: none}.tree text {dominant-baseline: middle}.tree .lab.lft {text-anchor: end}.tree .lab.rgt {text-anchor: start}.mut {fill: red; font-style: italic}]]></style></defs><g class=\"tree-sequence\"><g class=\"background\"><polygon fill=\"#F1F1F1\" points=\"20,185 20,180 20,160 20,0 180.0,0 180.0,160 180.0,180 180.0,185\"/></g><g class=\"trees\"><g class=\"treebox t0\" transform=\"translate(20 30)\"><g class=\"tree t0\"><g class=\"node n6 p0 root\" transform=\"translate(97.5 30.0)\"><g class=\"a6 leaf m0 m2 node n1 p0 s0 s2 sample\" transform=\"translate(24.5 80.0)\"><path class=\"edge\" d=\"M 0 0 V -80.0 H -24.5\"/><circle class=\"sym\" cx=\"0\" cy=\"0\" r=\"3\"/><text class=\"lab\" transform=\"translate(0 12)\">1</text><g class=\"mut m2 s2\" transform=\"translate(0 -26.6667)\"><rect class=\"sym\" height=\"6\" transform=\"translate(-3 -3)\" width=\"6\" x=\"0\" y=\"0\"/><text class=\"lab rgt\" transform=\"translate(5 0)\">2</text></g><g class=\"mut m0 s0\" transform=\"translate(0 -53.3333)\"><rect class=\"sym\" height=\"6\" transform=\"translate(-3 -3)\" width=\"6\" x=\"0\" y=\"0\"/><text class=\"lab rgt\" transform=\"translate(5 0)\">0</text></g></g><g class=\"a6 m1 node n5 p0 s1\" transform=\"translate(-24.5 59.0682)\"><g class=\"a5 leaf node n2 p0 sample\" transform=\"translate(21.0 20.9318)\"><path class=\"edge\" d=\"M 0 0 V -20.9318 H -21.0\"/><circle class=\"sym\" cx=\"0\" cy=\"0\" r=\"3\"/><text class=\"lab\" transform=\"translate(0 12)\">2</text></g><g class=\"a5 node n4 p0\" transform=\"translate(-21.0 3.23145)\"><g class=\"a4 leaf node n0 p0 sample\" transform=\"translate(-14.0 17.7004)\"><path class=\"edge\" d=\"M 0 0 V -17.7004 H 14.0\"/><circle class=\"sym\" cx=\"0\" cy=\"0\" r=\"3\"/><text class=\"lab\" transform=\"translate(0 12)\">0</text></g><g class=\"a4 leaf node n3 p0 sample\" transform=\"translate(14.0 17.7004)\"><path class=\"edge\" d=\"M 0 0 V -17.7004 H -14.0\"/><circle class=\"sym\" cx=\"0\" cy=\"0\" r=\"3\"/><text class=\"lab\" transform=\"translate(0 12)\">3</text></g><path class=\"edge\" d=\"M 0 0 V -3.23145 H 21.0\"/><circle class=\"sym\" cx=\"0\" cy=\"0\" r=\"3\"/><text class=\"lab lft\" transform=\"translate(-3 -6)\">4</text></g><path class=\"edge\" d=\"M 0 0 V -59.0682 H 24.5\"/><circle class=\"sym\" cx=\"0\" cy=\"0\" r=\"3\"/><text class=\"lab lft\" transform=\"translate(-3 -6)\">5</text><g class=\"mut m1 s1\" transform=\"translate(0 -29.5341)\"><rect class=\"sym\" height=\"6\" transform=\"translate(-3 -3)\" width=\"6\" x=\"0\" y=\"0\"/><text class=\"lab lft\" transform=\"translate(-5 0)\">1</text></g></g><circle class=\"sym\" cx=\"0\" cy=\"0\" r=\"3\"/><text class=\"lab\" transform=\"translate(0 -10)\">6</text></g></g></g></g><g class=\"axis\"><line stroke=\"black\" x1=\"20\" x2=\"180\" y1=\"180\" y2=\"180\"/><line stroke=\"black\" x1=\"20\" x2=\"20\" y1=\"180\" y2=\"185\"/><g transform=\"translate(20, 200)\"><text font-size=\"14\" font-weight=\"bold\" text-anchor=\"middle\">0</text></g><line stroke=\"black\" x1=\"180.0\" x2=\"180.0\" y1=\"180\" y2=\"185\"/><g transform=\"translate(180.0, 200)\"><text font-size=\"14\" font-weight=\"bold\" text-anchor=\"middle\">10000</text></g></g></g></svg>"
      ],
      "text/plain": [
       "<IPython.core.display.SVG object>"
      ]
     },
     "metadata": {},
     "output_type": "display_data"
    }
   ],
   "source": [
    "display(SVG(tree_sequence.draw_svg()))"
   ]
  },
  {
   "cell_type": "markdown",
   "metadata": {},
   "source": [
    "The leaves correspond to sequences that we observe. Here, sequences 0, 3 and 2 will share one mutations (1), whereas sequence 1  has two mutations (0 and 2). We can print the sequences by using the `genotype_matrix` function:"
   ]
  },
  {
   "cell_type": "code",
   "execution_count": 37,
   "metadata": {},
   "outputs": [
    {
     "data": {
      "text/plain": [
       "array([[0, 1, 0, 0],\n",
       "       [1, 0, 1, 1],\n",
       "       [0, 1, 0, 0]], dtype=int8)"
      ]
     },
     "execution_count": 37,
     "metadata": {},
     "output_type": "execute_result"
    }
   ],
   "source": [
    "tree_sequence.genotype_matrix()"
   ]
  },
  {
   "cell_type": "markdown",
   "metadata": {},
   "source": [
    "Here, the rows correspond to sites (mutations) and columns to samples; individual 0 has sequence `010` and so on. Sequence sites are binary coded, where 0 is an ancestral state and 1 is a derived state (mutation)."
   ]
  },
  {
   "cell_type": "markdown",
   "metadata": {},
   "source": [
    "## Combining recombination and mutation"
   ]
  },
  {
   "cell_type": "markdown",
   "metadata": {},
   "source": [
    "Typically the data we want consists of both recombination and mutation! Hence, we simply use a combination of the parameters `recombination_rate` and `mutation_rate`:"
   ]
  },
  {
   "cell_type": "code",
   "execution_count": 39,
   "metadata": {
    "collapsed": true
   },
   "outputs": [],
   "source": [
    "tree_sequence = msprime.simulate(sample_size=4, Ne=1000, length=1e4, random_seed=55, mutation_rate=4e-8, recombination_rate=2e-8)"
   ]
  },
  {
   "cell_type": "code",
   "execution_count": 40,
   "metadata": {},
   "outputs": [
    {
     "data": {
      "image/svg+xml": [
       "<svg xmlns=\"http://www.w3.org/2000/svg\" xmlns:ev=\"http://www.w3.org/2001/xml-events\" xmlns:xlink=\"http://www.w3.org/1999/xlink\" baseProfile=\"full\" height=\"200\" version=\"1.1\" width=\"800\"><defs><style type=\"text/css\"><![CDATA[.axis {font-weight: bold}.tree, .axis {font-size: 14px; text-anchor:middle}.edge {stroke: black; fill: none}.node > .sym {fill: black; stroke: none}.tree text {dominant-baseline: middle}.tree .lab.lft {text-anchor: end}.tree .lab.rgt {text-anchor: start}.mut {fill: red; font-style: italic}]]></style></defs><g class=\"tree-sequence\"><g class=\"background\"><polygon fill=\"#F1F1F1\" points=\"20,185 20,180 20,160 20,0 210.0,0 210.0,160 158.331,180 158.331,185\"/><polygon fill=\"#F1F1F1\" points=\"630.134,185 630.134,180 400.0,160 400.0,0 590.0,0 590.0,160 693.834,180 693.834,185\"/></g><g class=\"trees\"><g class=\"treebox t0\" transform=\"translate(20 30)\"><g class=\"tree t0\"><g class=\"node n8 p0 root\" transform=\"translate(82.25 30.6976)\"><g class=\"a8 leaf node n0 p0 sample\" transform=\"translate(-38.25 79.3024)\"><path class=\"edge\" d=\"M 0 0 V -79.3024 H 38.25\"/><circle class=\"sym\" cx=\"0\" cy=\"0\" r=\"3\"/><text class=\"lab\" transform=\"translate(0 12)\">0</text></g><g class=\"a8 node n7 p0\" transform=\"translate(38.25 24.0169)\"><g class=\"a7 leaf node n2 p0 sample\" transform=\"translate(25.5 55.2855)\"><path class=\"edge\" d=\"M 0 0 V -55.2855 H -25.5\"/><circle class=\"sym\" cx=\"0\" cy=\"0\" r=\"3\"/><text class=\"lab\" transform=\"translate(0 12)\">2</text></g><g class=\"a7 m0 node n5 p0 s0\" transform=\"translate(-25.5 46.73)\"><g class=\"a5 leaf node n1 p0 sample\" transform=\"translate(-17.0 8.55557)\"><path class=\"edge\" d=\"M 0 0 V -8.55557 H 17.0\"/><circle class=\"sym\" cx=\"0\" cy=\"0\" r=\"3\"/><text class=\"lab\" transform=\"translate(0 12)\">1</text></g><g class=\"a5 leaf node n3 p0 sample\" transform=\"translate(17.0 8.55557)\"><path class=\"edge\" d=\"M 0 0 V -8.55557 H -17.0\"/><circle class=\"sym\" cx=\"0\" cy=\"0\" r=\"3\"/><text class=\"lab\" transform=\"translate(0 12)\">3</text></g><path class=\"edge\" d=\"M 0 0 V -46.73 H 25.5\"/><circle class=\"sym\" cx=\"0\" cy=\"0\" r=\"3\"/><text class=\"lab lft\" transform=\"translate(-3 -6)\">5</text><g class=\"mut m0 s0\" transform=\"translate(0 -23.365)\"><rect class=\"sym\" height=\"6\" transform=\"translate(-3 -3)\" width=\"6\" x=\"0\" y=\"0\"/><text class=\"lab lft\" transform=\"translate(-5 0)\">0</text></g></g><path class=\"edge\" d=\"M 0 0 V -24.0169 H -38.25\"/><circle class=\"sym\" cx=\"0\" cy=\"0\" r=\"3\"/><text class=\"lab rgt\" transform=\"translate(3 -6)\">7</text></g><circle class=\"sym\" cx=\"0\" cy=\"0\" r=\"3\"/><text class=\"lab\" transform=\"translate(0 -10)\">8</text></g></g></g><g class=\"treebox t1\" transform=\"translate(210.0 30)\"><g class=\"tree t1\"><g class=\"node n8 p0 root\" transform=\"translate(107.75 30.6976)\"><g class=\"a8 leaf m1 m4 node n2 p0 s1 s4 sample\" transform=\"translate(38.25 79.3024)\"><path class=\"edge\" d=\"M 0 0 V -79.3024 H -38.25\"/><circle class=\"sym\" cx=\"0\" cy=\"0\" r=\"3\"/><text class=\"lab\" transform=\"translate(0 12)\">2</text><g class=\"mut m4 s4\" transform=\"translate(0 -26.4341)\"><rect class=\"sym\" height=\"6\" transform=\"translate(-3 -3)\" width=\"6\" x=\"0\" y=\"0\"/><text class=\"lab rgt\" transform=\"translate(5 0)\">4</text></g><g class=\"mut m1 s1\" transform=\"translate(0 -52.8683)\"><rect class=\"sym\" height=\"6\" transform=\"translate(-3 -3)\" width=\"6\" x=\"0\" y=\"0\"/><text class=\"lab rgt\" transform=\"translate(5 0)\">1</text></g></g><g class=\"a8 node n6 p0\" transform=\"translate(-38.25 26.4389)\"><g class=\"a6 leaf m3 node n0 p0 s3 sample\" transform=\"translate(-25.5 52.8635)\"><path class=\"edge\" d=\"M 0 0 V -52.8635 H 25.5\"/><circle class=\"sym\" cx=\"0\" cy=\"0\" r=\"3\"/><text class=\"lab\" transform=\"translate(0 12)\">0</text><g class=\"mut m3 s3\" transform=\"translate(0 -26.4318)\"><rect class=\"sym\" height=\"6\" transform=\"translate(-3 -3)\" width=\"6\" x=\"0\" y=\"0\"/><text class=\"lab lft\" transform=\"translate(-5 0)\">3</text></g></g><g class=\"a6 m2 m5 m6 node n5 p0 s2 s5 s6\" transform=\"translate(25.5 44.3079)\"><g class=\"a5 leaf node n1 p0 sample\" transform=\"translate(-17.0 8.55557)\"><path class=\"edge\" d=\"M 0 0 V -8.55557 H 17.0\"/><circle class=\"sym\" cx=\"0\" cy=\"0\" r=\"3\"/><text class=\"lab\" transform=\"translate(0 12)\">1</text></g><g class=\"a5 leaf node n3 p0 sample\" transform=\"translate(17.0 8.55557)\"><path class=\"edge\" d=\"M 0 0 V -8.55557 H -17.0\"/><circle class=\"sym\" cx=\"0\" cy=\"0\" r=\"3\"/><text class=\"lab\" transform=\"translate(0 12)\">3</text></g><path class=\"edge\" d=\"M 0 0 V -44.3079 H -25.5\"/><circle class=\"sym\" cx=\"0\" cy=\"0\" r=\"3\"/><text class=\"lab rgt\" transform=\"translate(3 -6)\">5</text><g class=\"mut m6 s6\" transform=\"translate(0 -11.077)\"><rect class=\"sym\" height=\"6\" transform=\"translate(-3 -3)\" width=\"6\" x=\"0\" y=\"0\"/><text class=\"lab rgt\" transform=\"translate(5 0)\">6</text></g><g class=\"mut m5 s5\" transform=\"translate(0 -22.154)\"><rect class=\"sym\" height=\"6\" transform=\"translate(-3 -3)\" width=\"6\" x=\"0\" y=\"0\"/><text class=\"lab rgt\" transform=\"translate(5 0)\">5</text></g><g class=\"mut m2 s2\" transform=\"translate(0 -33.231)\"><rect class=\"sym\" height=\"6\" transform=\"translate(-3 -3)\" width=\"6\" x=\"0\" y=\"0\"/><text class=\"lab rgt\" transform=\"translate(5 0)\">2</text></g></g><path class=\"edge\" d=\"M 0 0 V -26.4389 H 38.25\"/><circle class=\"sym\" cx=\"0\" cy=\"0\" r=\"3\"/><text class=\"lab lft\" transform=\"translate(-3 -6)\">6</text></g><circle class=\"sym\" cx=\"0\" cy=\"0\" r=\"3\"/><text class=\"lab\" transform=\"translate(0 -10)\">8</text></g></g></g><g class=\"treebox t2\" transform=\"translate(400.0 30)\"><g class=\"tree t2\"><g class=\"node n9 p0 root\" transform=\"translate(107.75 30.0)\"><g class=\"a9 leaf node n2 p0 sample\" transform=\"translate(38.25 80.0)\"><path class=\"edge\" d=\"M 0 0 V -80.0 H -38.25\"/><circle class=\"sym\" cx=\"0\" cy=\"0\" r=\"3\"/><text class=\"lab\" transform=\"translate(0 12)\">2</text></g><g class=\"a9 node n6 p0\" transform=\"translate(-38.25 27.1365)\"><g class=\"a6 leaf node n0 p0 sample\" transform=\"translate(-25.5 52.8635)\"><path class=\"edge\" d=\"M 0 0 V -52.8635 H 25.5\"/><circle class=\"sym\" cx=\"0\" cy=\"0\" r=\"3\"/><text class=\"lab\" transform=\"translate(0 12)\">0</text></g><g class=\"a6 node n5 p0\" transform=\"translate(25.5 44.3079)\"><g class=\"a5 leaf node n1 p0 sample\" transform=\"translate(-17.0 8.55557)\"><path class=\"edge\" d=\"M 0 0 V -8.55557 H 17.0\"/><circle class=\"sym\" cx=\"0\" cy=\"0\" r=\"3\"/><text class=\"lab\" transform=\"translate(0 12)\">1</text></g><g class=\"a5 leaf node n3 p0 sample\" transform=\"translate(17.0 8.55557)\"><path class=\"edge\" d=\"M 0 0 V -8.55557 H -17.0\"/><circle class=\"sym\" cx=\"0\" cy=\"0\" r=\"3\"/><text class=\"lab\" transform=\"translate(0 12)\">3</text></g><path class=\"edge\" d=\"M 0 0 V -44.3079 H -25.5\"/><circle class=\"sym\" cx=\"0\" cy=\"0\" r=\"3\"/><text class=\"lab rgt\" transform=\"translate(3 -6)\">5</text></g><path class=\"edge\" d=\"M 0 0 V -27.1365 H 38.25\"/><circle class=\"sym\" cx=\"0\" cy=\"0\" r=\"3\"/><text class=\"lab lft\" transform=\"translate(-3 -6)\">6</text></g><circle class=\"sym\" cx=\"0\" cy=\"0\" r=\"3\"/><text class=\"lab\" transform=\"translate(0 -10)\">9</text></g></g></g><g class=\"treebox t3\" transform=\"translate(590.0 30)\"><g class=\"tree t3\"><g class=\"node n9 p0 root\" transform=\"translate(116.25 30.0)\"><g class=\"a9 leaf node n2 p0 sample\" transform=\"translate(29.75 80.0)\"><path class=\"edge\" d=\"M 0 0 V -80.0 H -29.75\"/><circle class=\"sym\" cx=\"0\" cy=\"0\" r=\"3\"/><text class=\"lab\" transform=\"translate(0 12)\">2</text></g><g class=\"a9 node n5 p0\" transform=\"translate(-29.75 71.4444)\"><g class=\"a5 leaf node n1 p0 sample\" transform=\"translate(25.5 8.55557)\"><path class=\"edge\" d=\"M 0 0 V -8.55557 H -25.5\"/><circle class=\"sym\" cx=\"0\" cy=\"0\" r=\"3\"/><text class=\"lab\" transform=\"translate(0 12)\">1</text></g><g class=\"a5 node n4 p0\" transform=\"translate(-25.5 4.26117)\"><g class=\"a4 leaf node n0 p0 sample\" transform=\"translate(-17.0 4.2944)\"><path class=\"edge\" d=\"M 0 0 V -4.2944 H 17.0\"/><circle class=\"sym\" cx=\"0\" cy=\"0\" r=\"3\"/><text class=\"lab\" transform=\"translate(0 12)\">0</text></g><g class=\"a4 leaf node n3 p0 sample\" transform=\"translate(17.0 4.2944)\"><path class=\"edge\" d=\"M 0 0 V -4.2944 H -17.0\"/><circle class=\"sym\" cx=\"0\" cy=\"0\" r=\"3\"/><text class=\"lab\" transform=\"translate(0 12)\">3</text></g><path class=\"edge\" d=\"M 0 0 V -4.26117 H 25.5\"/><circle class=\"sym\" cx=\"0\" cy=\"0\" r=\"3\"/><text class=\"lab lft\" transform=\"translate(-3 -6)\">4</text></g><path class=\"edge\" d=\"M 0 0 V -71.4444 H 29.75\"/><circle class=\"sym\" cx=\"0\" cy=\"0\" r=\"3\"/><text class=\"lab lft\" transform=\"translate(-3 -6)\">5</text></g><circle class=\"sym\" cx=\"0\" cy=\"0\" r=\"3\"/><text class=\"lab\" transform=\"translate(0 -10)\">9</text></g></g></g></g><g class=\"axis\"><line stroke=\"black\" x1=\"20\" x2=\"780\" y1=\"180\" y2=\"180\"/><line stroke=\"black\" x1=\"20\" x2=\"20\" y1=\"180\" y2=\"185\"/><g transform=\"translate(20, 200)\"><text font-size=\"14\" font-weight=\"bold\" text-anchor=\"middle\">0.00</text></g><line stroke=\"black\" x1=\"158.331\" x2=\"158.331\" y1=\"180\" y2=\"185\"/><g transform=\"translate(158.331, 200)\"><text font-size=\"14\" font-weight=\"bold\" text-anchor=\"middle\">1820.15</text></g><line stroke=\"black\" x1=\"630.134\" x2=\"630.134\" y1=\"180\" y2=\"185\"/><g transform=\"translate(630.134, 200)\"><text font-size=\"14\" font-weight=\"bold\" text-anchor=\"middle\">8028.08</text></g><line stroke=\"black\" x1=\"693.834\" x2=\"693.834\" y1=\"180\" y2=\"185\"/><g transform=\"translate(693.834, 200)\"><text font-size=\"14\" font-weight=\"bold\" text-anchor=\"middle\">8866.24</text></g><line stroke=\"black\" x1=\"780.0\" x2=\"780.0\" y1=\"180\" y2=\"185\"/><g transform=\"translate(780.0, 200)\"><text font-size=\"14\" font-weight=\"bold\" text-anchor=\"middle\">10000.00</text></g></g></g></svg>"
      ],
      "text/plain": [
       "<IPython.core.display.SVG object>"
      ]
     },
     "metadata": {},
     "output_type": "display_data"
    }
   ],
   "source": [
    "display(SVG(tree_sequence.draw_svg()))"
   ]
  },
  {
   "cell_type": "markdown",
   "metadata": {},
   "source": [
    "We can print the resulting sequences and compare with the trees to see where mutations occur. For instance, mutation 0 corresponds to the first column in the matrix, and affects individuals 1 and 3."
   ]
  },
  {
   "cell_type": "code",
   "execution_count": 41,
   "metadata": {},
   "outputs": [
    {
     "data": {
      "text/plain": [
       "array([[0, 1, 0, 1],\n",
       "       [0, 0, 1, 0],\n",
       "       [0, 1, 0, 1],\n",
       "       [1, 0, 0, 0],\n",
       "       [0, 0, 1, 0],\n",
       "       [0, 1, 0, 1],\n",
       "       [0, 1, 0, 1]], dtype=int8)"
      ]
     },
     "execution_count": 41,
     "metadata": {},
     "output_type": "execute_result"
    }
   ],
   "source": [
    "tree_sequence.genotype_matrix()"
   ]
  },
  {
   "cell_type": "markdown",
   "metadata": {},
   "source": [
    "As an example, individual (leaf) with index 1 has mutations 0, 2, 5, and 6, and its sequence is `1010011`"
   ]
  },
  {
   "cell_type": "markdown",
   "metadata": {},
   "source": [
    "## The coalescent with msprime and scikit_allel"
   ]
  },
  {
   "cell_type": "markdown",
   "metadata": {},
   "source": [
    "NB: this section is still WIP!"
   ]
  },
  {
   "cell_type": "markdown",
   "metadata": {},
   "source": [
    "Sofar we have been looking at a toy example. Here we use msprime to generate more advanced models. The purpose is to illustrate how changes in population size affects the coalescent process. Expected patterns of variation can be more easily understood when interpreted in the coalescent framework."
   ]
  },
  {
   "cell_type": "markdown",
   "metadata": {},
   "source": [
    "Lets start by looking at one population in equilibrium with $N_e$ = 100,000 with generation time = 1."
   ]
  },
  {
   "cell_type": "code",
   "execution_count": 42,
   "metadata": {},
   "outputs": [
    {
     "data": {
      "text/html": [
       "\n",
       "            <div>\n",
       "              <style>\n",
       "                .tskit-table thead tr th {text-align: left;}\n",
       "                .tskit-table tbody tr td:first-of-type {text-align: left;}\n",
       "                .tskit-details-label {vertical-align: top; padding-right:5px;}\n",
       "                .tskit-table-set {display: inline-flex;flex-wrap: wrap;margin: -12px 0 0 -12px;width: calc(100% + 12px);}\n",
       "                .tskit-table-set-table {margin: 12px 0 0 12px;}\n",
       "                details {display: inline-block;}\n",
       "                summary {cursor: pointer; outline: 0; display: list-item;}\n",
       "              </style>\n",
       "              <div class=\"tskit-table-set\">\n",
       "                <div class=\"tskit-table-set-table\">\n",
       "                  <table class=\"tskit-table\">\n",
       "                    <thead>\n",
       "                      <tr>\n",
       "                        <th style=\"padding:0;line-height:21px;\">\n",
       "                          <img style=\"height: 32px;display: inline-block;padding: 3px 5px 3px 0;\"src=\"https://raw.githubusercontent.com/tskit-dev/administrative/main/tskit_logo.svg\"/>\n",
       "                          <a target=\"_blank\" href=\"https://tskit.readthedocs.io/en/latest/python-api.html#the-treesequence-class\"> Tree Sequence\n",
       "                        </th>\n",
       "                      </tr>\n",
       "                    </thead>\n",
       "                    <tbody>\n",
       "                      <tr><td>Trees</td><td>1</td></tr>\n",
       "                      <tr><td>Sequence Length</td><td>1.0</td></tr>\n",
       "                      <tr><td>Sample Nodes</td><td>10</td></tr>\n",
       "                      <tr><td>Total Size</td><td>1.7 KiB</td></tr>\n",
       "                      <tr>\n",
       "                        <td>Metadata</td><td style=\"text-align: left;\">No Metadata</td></tr>\n",
       "                    </tbody>\n",
       "                  </table>\n",
       "                </div>\n",
       "                <div class=\"tskit-table-set-table\">\n",
       "                  <table class=\"tskit-table\">\n",
       "                    <thead>\n",
       "                      <tr>\n",
       "                        <th style=\"line-height:21px;\">Table</th>\n",
       "                        <th>Rows</th>\n",
       "                        <th>Size</th>\n",
       "                        <th>Has Metadata</th>\n",
       "                      </tr>\n",
       "                    </thead>\n",
       "                    <tbody>\n",
       "                    \n",
       "                  <tr>\n",
       "                    <td>Edges</td>\n",
       "                      <td>18</td>\n",
       "                      <td>508 Bytes</td>\n",
       "                      <td style=\"text-align: center;\">\n",
       "                        \n",
       "                      </td>\n",
       "                    </tr>\n",
       "                \n",
       "                  <tr>\n",
       "                    <td>Individuals</td>\n",
       "                      <td>0</td>\n",
       "                      <td>8 Bytes</td>\n",
       "                      <td style=\"text-align: center;\">\n",
       "                        \n",
       "                      </td>\n",
       "                    </tr>\n",
       "                \n",
       "                  <tr>\n",
       "                    <td>Migrations</td>\n",
       "                      <td>0</td>\n",
       "                      <td>4 Bytes</td>\n",
       "                      <td style=\"text-align: center;\">\n",
       "                        \n",
       "                      </td>\n",
       "                    </tr>\n",
       "                \n",
       "                  <tr>\n",
       "                    <td>Mutations</td>\n",
       "                      <td>0</td>\n",
       "                      <td>8 Bytes</td>\n",
       "                      <td style=\"text-align: center;\">\n",
       "                        \n",
       "                      </td>\n",
       "                    </tr>\n",
       "                \n",
       "                  <tr>\n",
       "                    <td>Nodes</td>\n",
       "                      <td>19</td>\n",
       "                      <td>460 Bytes</td>\n",
       "                      <td style=\"text-align: center;\">\n",
       "                        \n",
       "                      </td>\n",
       "                    </tr>\n",
       "                \n",
       "                  <tr>\n",
       "                    <td>Populations</td>\n",
       "                      <td>1</td>\n",
       "                      <td>8 Bytes</td>\n",
       "                      <td style=\"text-align: center;\">\n",
       "                        \n",
       "                      </td>\n",
       "                    </tr>\n",
       "                \n",
       "                  <tr>\n",
       "                    <td>Provenances</td>\n",
       "                      <td>1</td>\n",
       "                      <td>570 Bytes</td>\n",
       "                      <td style=\"text-align: center;\">\n",
       "                        \n",
       "                      </td>\n",
       "                    </tr>\n",
       "                \n",
       "                  <tr>\n",
       "                    <td>Sites</td>\n",
       "                      <td>0</td>\n",
       "                      <td>8 Bytes</td>\n",
       "                      <td style=\"text-align: center;\">\n",
       "                        \n",
       "                      </td>\n",
       "                    </tr>\n",
       "                \n",
       "                    </tbody>\n",
       "                  </table>\n",
       "                </div>\n",
       "              </div>\n",
       "            </div>\n",
       "            "
      ],
      "text/plain": [
       "<tskit.trees.TreeSequence at 0x7f4870d8ac70>"
      ]
     },
     "execution_count": 42,
     "metadata": {},
     "output_type": "execute_result"
    }
   ],
   "source": [
    "N0 = 100000\n",
    "ts = msprime.simulate(Ne=N0, sample_size=10)\n",
    "ts"
   ]
  },
  {
   "cell_type": "code",
   "execution_count": 43,
   "metadata": {},
   "outputs": [
    {
     "data": {
      "image/svg+xml": [
       "<svg xmlns=\"http://www.w3.org/2000/svg\" xmlns:ev=\"http://www.w3.org/2001/xml-events\" xmlns:xlink=\"http://www.w3.org/1999/xlink\" baseProfile=\"full\" height=\"200\" version=\"1.1\" width=\"200\"><defs><style type=\"text/css\"><![CDATA[.axis {font-weight: bold}.tree, .axis {font-size: 14px; text-anchor:middle}.edge {stroke: black; fill: none}.node > .sym {fill: black; stroke: none}.tree text {dominant-baseline: middle}.tree .lab.lft {text-anchor: end}.tree .lab.rgt {text-anchor: start}.mut {fill: red; font-style: italic}]]></style></defs><g class=\"tree-sequence\"><g class=\"background\"><polygon fill=\"#F1F1F1\" points=\"20,185 20,180 20,160 20,0 180.0,0 180.0,160 180.0,180 180.0,185\"/></g><g class=\"trees\"><g class=\"treebox t0\" transform=\"translate(20 30)\"><g class=\"tree t0\"><g class=\"node n18 p0 root\" transform=\"translate(63.4943 30.0)\"><g class=\"a18 node n12 p0\" transform=\"translate(-34.4034 68.8977)\"><g class=\"a12 leaf node n0 p0 sample\" transform=\"translate(-6.36364 11.1023)\"><path class=\"edge\" d=\"M 0 0 V -11.1023 H 6.36364\"/><circle class=\"sym\" cx=\"0\" cy=\"0\" r=\"3\"/><text class=\"lab\" transform=\"translate(0 12)\">0</text></g><g class=\"a12 leaf node n8 p0 sample\" transform=\"translate(6.36364 11.1023)\"><path class=\"edge\" d=\"M 0 0 V -11.1023 H -6.36364\"/><circle class=\"sym\" cx=\"0\" cy=\"0\" r=\"3\"/><text class=\"lab\" transform=\"translate(0 12)\">8</text></g><path class=\"edge\" d=\"M 0 0 V -68.8977 H 34.4034\"/><circle class=\"sym\" cx=\"0\" cy=\"0\" r=\"3\"/><text class=\"lab lft\" transform=\"translate(-3 -6)\">12</text></g><g class=\"a18 node n17 p0\" transform=\"translate(34.4034 33.6099)\"><g class=\"a17 node n15 p0\" transform=\"translate(33.0114 28.2167)\"><g class=\"a15 leaf node n3 p0 sample\" transform=\"translate(-6.36364 18.1734)\"><path class=\"edge\" d=\"M 0 0 V -18.1734 H 6.36364\"/><circle class=\"sym\" cx=\"0\" cy=\"0\" r=\"3\"/><text class=\"lab\" transform=\"translate(0 12)\">3</text></g><g class=\"a15 leaf node n7 p0 sample\" transform=\"translate(6.36364 18.1734)\"><path class=\"edge\" d=\"M 0 0 V -18.1734 H -6.36364\"/><circle class=\"sym\" cx=\"0\" cy=\"0\" r=\"3\"/><text class=\"lab\" transform=\"translate(0 12)\">7</text></g><path class=\"edge\" d=\"M 0 0 V -28.2167 H -33.0114\"/><circle class=\"sym\" cx=\"0\" cy=\"0\" r=\"3\"/><text class=\"lab rgt\" transform=\"translate(3 -6)\">15</text></g><g class=\"a17 node n16 p0\" transform=\"translate(-33.0114 26.7322)\"><g class=\"a16 leaf node n1 p0 sample\" transform=\"translate(-16.7045 19.6579)\"><path class=\"edge\" d=\"M 0 0 V -19.6579 H 16.7045\"/><circle class=\"sym\" cx=\"0\" cy=\"0\" r=\"3\"/><text class=\"lab\" transform=\"translate(0 12)\">1</text></g><g class=\"a16 node n14 p0\" transform=\"translate(16.7045 5.61087)\"><g class=\"a14 node n11 p0\" transform=\"translate(14.3182 8.31412)\"><g class=\"a11 leaf node n4 p0 sample\" transform=\"translate(-9.54545 5.73288)\"><path class=\"edge\" d=\"M 0 0 V -5.73288 H 9.54545\"/><circle class=\"sym\" cx=\"0\" cy=\"0\" r=\"3\"/><text class=\"lab\" transform=\"translate(0 12)\">4</text></g><g class=\"a11 node n10 p0\" transform=\"translate(9.54545 3.0724)\"><g class=\"a10 leaf node n6 p0 sample\" transform=\"translate(-6.36364 2.66048)\"><path class=\"edge\" d=\"M 0 0 V -2.66048 H 6.36364\"/><circle class=\"sym\" cx=\"0\" cy=\"0\" r=\"3\"/><text class=\"lab\" transform=\"translate(0 12)\">6</text></g><g class=\"a10 leaf node n9 p0 sample\" transform=\"translate(6.36364 2.66048)\"><path class=\"edge\" d=\"M 0 0 V -2.66048 H -6.36364\"/><circle class=\"sym\" cx=\"0\" cy=\"0\" r=\"3\"/><text class=\"lab\" transform=\"translate(0 12)\">9</text></g><path class=\"edge\" d=\"M 0 0 V -3.0724 H -9.54545\"/><circle class=\"sym\" cx=\"0\" cy=\"0\" r=\"3\"/><text class=\"lab rgt\" transform=\"translate(3 -6)\">10</text></g><path class=\"edge\" d=\"M 0 0 V -8.31412 H -14.3182\"/><circle class=\"sym\" cx=\"0\" cy=\"0\" r=\"3\"/><text class=\"lab rgt\" transform=\"translate(3 -6)\">11</text></g><g class=\"a14 node n13 p0\" transform=\"translate(-14.3182 1.71954)\"><g class=\"a13 leaf node n2 p0 sample\" transform=\"translate(-6.36364 12.3275)\"><path class=\"edge\" d=\"M 0 0 V -12.3275 H 6.36364\"/><circle class=\"sym\" cx=\"0\" cy=\"0\" r=\"3\"/><text class=\"lab\" transform=\"translate(0 12)\">2</text></g><g class=\"a13 leaf node n5 p0 sample\" transform=\"translate(6.36364 12.3275)\"><path class=\"edge\" d=\"M 0 0 V -12.3275 H -6.36364\"/><circle class=\"sym\" cx=\"0\" cy=\"0\" r=\"3\"/><text class=\"lab\" transform=\"translate(0 12)\">5</text></g><path class=\"edge\" d=\"M 0 0 V -1.71954 H 14.3182\"/><circle class=\"sym\" cx=\"0\" cy=\"0\" r=\"3\"/><text class=\"lab lft\" transform=\"translate(-3 -6)\">13</text></g><path class=\"edge\" d=\"M 0 0 V -5.61087 H -16.7045\"/><circle class=\"sym\" cx=\"0\" cy=\"0\" r=\"3\"/><text class=\"lab rgt\" transform=\"translate(3 -6)\">14</text></g><path class=\"edge\" d=\"M 0 0 V -26.7322 H 33.0114\"/><circle class=\"sym\" cx=\"0\" cy=\"0\" r=\"3\"/><text class=\"lab lft\" transform=\"translate(-3 -6)\">16</text></g><path class=\"edge\" d=\"M 0 0 V -33.6099 H -34.4034\"/><circle class=\"sym\" cx=\"0\" cy=\"0\" r=\"3\"/><text class=\"lab rgt\" transform=\"translate(3 -6)\">17</text></g><circle class=\"sym\" cx=\"0\" cy=\"0\" r=\"3\"/><text class=\"lab\" transform=\"translate(0 -10)\">18</text></g></g></g></g><g class=\"axis\"><line stroke=\"black\" x1=\"20\" x2=\"180\" y1=\"180\" y2=\"180\"/><line stroke=\"black\" x1=\"20\" x2=\"20\" y1=\"180\" y2=\"185\"/><g transform=\"translate(20, 200)\"><text font-size=\"14\" font-weight=\"bold\" text-anchor=\"middle\">0</text></g><line stroke=\"black\" x1=\"180.0\" x2=\"180.0\" y1=\"180\" y2=\"185\"/><g transform=\"translate(180.0, 200)\"><text font-size=\"14\" font-weight=\"bold\" text-anchor=\"middle\">1</text></g></g></g></svg>"
      ],
      "text/plain": [
       "<IPython.core.display.SVG object>"
      ]
     },
     "execution_count": 43,
     "metadata": {},
     "output_type": "execute_result"
    }
   ],
   "source": [
    "from IPython.display import SVG\n",
    "SVG(ts.draw_svg())"
   ]
  },
  {
   "cell_type": "markdown",
   "metadata": {},
   "source": [
    "### Adding demographic events\n",
    "\n",
    "Demographic events are modelled from the present going backwards in time. Time is measured in units of generations *ago*. The following example models the above population with an expansion taking place 1,000 generations ago."
   ]
  },
  {
   "cell_type": "code",
   "execution_count": 44,
   "metadata": {},
   "outputs": [
    {
     "name": "stdout",
     "output_type": "stream",
     "text": [
      "Model =  hudson(reference_size=1)\n",
      "==============================\n",
      "Epoch: 0 -- 1000.0 generations\n",
      "==============================\n",
      "     start     end      growth_rate |     0    \n",
      "   -------- --------       -------- | -------- \n",
      "0 |  1e+05    1e+05               0 |     0    \n",
      "\n",
      "Events @ generation 1000.0\n",
      "   - Population parameter change for 0: initial_size -> 10000.0 \n",
      "================================\n",
      "Epoch: 1000.0 -- inf generations\n",
      "================================\n",
      "     start     end      growth_rate |     0    \n",
      "   -------- --------       -------- | -------- \n",
      "0 |  1e+04    1e+04               0 |     0    \n",
      "\n"
     ]
    }
   ],
   "source": [
    "population_configurations = [\n",
    "    msprime.PopulationConfiguration(sample_size=10, initial_size=N0)]\n",
    "demographic_events = [\n",
    "    msprime.PopulationParametersChange(time=1e3, initial_size=0.1*N0, population_id=0)]\n",
    "\n",
    "tree_expansion = msprime.simulate(\n",
    "    random_seed = 42,\n",
    "    population_configurations = population_configurations,\n",
    "    demographic_events = demographic_events\n",
    ")\n",
    "dd = msprime.DemographyDebugger(\n",
    "        population_configurations=population_configurations,\n",
    "        demographic_events=demographic_events)\n",
    "dd.print_history()\n"
   ]
  },
  {
   "cell_type": "markdown",
   "metadata": {},
   "source": [
    "### Effect of population size on tree\n",
    "\n",
    "Here we look at the effect of population expansion vs contraction"
   ]
  },
  {
   "cell_type": "code",
   "execution_count": 45,
   "metadata": {},
   "outputs": [
    {
     "data": {
      "image/svg+xml": [
       "<svg xmlns=\"http://www.w3.org/2000/svg\" xmlns:ev=\"http://www.w3.org/2001/xml-events\" xmlns:xlink=\"http://www.w3.org/1999/xlink\" baseProfile=\"full\" height=\"200\" version=\"1.1\" width=\"200\"><defs><style type=\"text/css\"><![CDATA[.axis {font-weight: bold}.tree, .axis {font-size: 14px; text-anchor:middle}.edge {stroke: black; fill: none}.node > .sym {fill: black; stroke: none}.tree text {dominant-baseline: middle}.tree .lab.lft {text-anchor: end}.tree .lab.rgt {text-anchor: start}.mut {fill: red; font-style: italic}]]></style></defs><g class=\"tree t0\"><g class=\"node n18 p0 root\" transform=\"translate(144.744 30.0)\"><g class=\"a18 node n12 p0\" transform=\"translate(20.7102 122.654)\"><g class=\"a12 leaf node n6 p0 sample\" transform=\"translate(-8.18182 17.3459)\"><path class=\"edge\" d=\"M 0 0 V -17.3459 H 8.18182\"/><circle class=\"sym\" cx=\"0\" cy=\"0\" r=\"3\"/><text class=\"lab\" transform=\"translate(0 12)\">6</text></g><g class=\"a12 leaf node n9 p0 sample\" transform=\"translate(8.18182 17.3459)\"><path class=\"edge\" d=\"M 0 0 V -17.3459 H -8.18182\"/><circle class=\"sym\" cx=\"0\" cy=\"0\" r=\"3\"/><text class=\"lab\" transform=\"translate(0 12)\">9</text></g><path class=\"edge\" d=\"M 0 0 V -122.654 H -20.7102\"/><circle class=\"sym\" cx=\"0\" cy=\"0\" r=\"3\"/><text class=\"lab rgt\" transform=\"translate(3 -6)\">12</text></g><g class=\"a18 node n17 p0\" transform=\"translate(-20.7102 80.0584)\"><g class=\"a17 leaf node n3 p0 sample\" transform=\"translate(16.875 59.9416)\"><path class=\"edge\" d=\"M 0 0 V -59.9416 H -16.875\"/><circle class=\"sym\" cx=\"0\" cy=\"0\" r=\"3\"/><text class=\"lab\" transform=\"translate(0 12)\">3</text></g><g class=\"a17 node n16 p0\" transform=\"translate(-16.875 33.5163)\"><g class=\"a16 leaf node n7 p0 sample\" transform=\"translate(17.3864 26.4253)\"><path class=\"edge\" d=\"M 0 0 V -26.4253 H -17.3864\"/><circle class=\"sym\" cx=\"0\" cy=\"0\" r=\"3\"/><text class=\"lab\" transform=\"translate(0 12)\">7</text></g><g class=\"a16 node n15 p0\" transform=\"translate(-17.3864 5.03365)\"><g class=\"a15 leaf node n4 p0 sample\" transform=\"translate(18.4091 21.3916)\"><path class=\"edge\" d=\"M 0 0 V -21.3916 H -18.4091\"/><circle class=\"sym\" cx=\"0\" cy=\"0\" r=\"3\"/><text class=\"lab\" transform=\"translate(0 12)\">4</text></g><g class=\"a15 node n14 p0\" transform=\"translate(-18.4091 2.63769)\"><g class=\"a14 leaf node n1 p0 sample\" transform=\"translate(20.4545 18.7539)\"><path class=\"edge\" d=\"M 0 0 V -18.7539 H -20.4545\"/><circle class=\"sym\" cx=\"0\" cy=\"0\" r=\"3\"/><text class=\"lab\" transform=\"translate(0 12)\">1</text></g><g class=\"a14 node n13 p0\" transform=\"translate(-20.4545 1.17627)\"><g class=\"a13 node n10 p0\" transform=\"translate(-16.3636 2.21261)\"><g class=\"a10 leaf node n0 p0 sample\" transform=\"translate(-8.18182 15.3651)\"><path class=\"edge\" d=\"M 0 0 V -15.3651 H 8.18182\"/><circle class=\"sym\" cx=\"0\" cy=\"0\" r=\"3\"/><text class=\"lab\" transform=\"translate(0 12)\">0</text></g><g class=\"a10 leaf node n8 p0 sample\" transform=\"translate(8.18182 15.3651)\"><path class=\"edge\" d=\"M 0 0 V -15.3651 H -8.18182\"/><circle class=\"sym\" cx=\"0\" cy=\"0\" r=\"3\"/><text class=\"lab\" transform=\"translate(0 12)\">8</text></g><path class=\"edge\" d=\"M 0 0 V -2.21261 H 16.3636\"/><circle class=\"sym\" cx=\"0\" cy=\"0\" r=\"3\"/><text class=\"lab lft\" transform=\"translate(-3 -6)\">10</text></g><g class=\"a13 node n11 p0\" transform=\"translate(16.3636 1.1629)\"><g class=\"a11 leaf node n2 p0 sample\" transform=\"translate(-8.18182 16.4148)\"><path class=\"edge\" d=\"M 0 0 V -16.4148 H 8.18182\"/><circle class=\"sym\" cx=\"0\" cy=\"0\" r=\"3\"/><text class=\"lab\" transform=\"translate(0 12)\">2</text></g><g class=\"a11 leaf node n5 p0 sample\" transform=\"translate(8.18182 16.4148)\"><path class=\"edge\" d=\"M 0 0 V -16.4148 H -8.18182\"/><circle class=\"sym\" cx=\"0\" cy=\"0\" r=\"3\"/><text class=\"lab\" transform=\"translate(0 12)\">5</text></g><path class=\"edge\" d=\"M 0 0 V -1.1629 H -16.3636\"/><circle class=\"sym\" cx=\"0\" cy=\"0\" r=\"3\"/><text class=\"lab rgt\" transform=\"translate(3 -6)\">11</text></g><path class=\"edge\" d=\"M 0 0 V -1.17627 H 20.4545\"/><circle class=\"sym\" cx=\"0\" cy=\"0\" r=\"3\"/><text class=\"lab lft\" transform=\"translate(-3 -6)\">13</text></g><path class=\"edge\" d=\"M 0 0 V -2.63769 H 18.4091\"/><circle class=\"sym\" cx=\"0\" cy=\"0\" r=\"3\"/><text class=\"lab lft\" transform=\"translate(-3 -6)\">14</text></g><path class=\"edge\" d=\"M 0 0 V -5.03365 H 17.3864\"/><circle class=\"sym\" cx=\"0\" cy=\"0\" r=\"3\"/><text class=\"lab lft\" transform=\"translate(-3 -6)\">15</text></g><path class=\"edge\" d=\"M 0 0 V -33.5163 H 16.875\"/><circle class=\"sym\" cx=\"0\" cy=\"0\" r=\"3\"/><text class=\"lab lft\" transform=\"translate(-3 -6)\">16</text></g><path class=\"edge\" d=\"M 0 0 V -80.0584 H 20.7102\"/><circle class=\"sym\" cx=\"0\" cy=\"0\" r=\"3\"/><text class=\"lab lft\" transform=\"translate(-3 -6)\">17</text></g><circle class=\"sym\" cx=\"0\" cy=\"0\" r=\"3\"/><text class=\"lab\" transform=\"translate(0 -10)\">18</text></g></g></svg>"
      ],
      "text/plain": [
       "<IPython.core.display.SVG object>"
      ]
     },
     "execution_count": 45,
     "metadata": {},
     "output_type": "execute_result"
    }
   ],
   "source": [
    "tree_expansion = msprime.simulate(\n",
    "    random_seed = 42,\n",
    "    population_configurations = [msprime.PopulationConfiguration(sample_size=10, initial_size=N0)],\n",
    "    demographic_events = [msprime.PopulationParametersChange(time=1e3, initial_size=0.01*N0, population_id=0)]\n",
    ")\n",
    "SVG(tree_expansion.first().draw())"
   ]
  },
  {
   "cell_type": "markdown",
   "metadata": {},
   "source": [
    "A population expansion leads to longer external branches. Most coalescent events will take place in a short time period centered around the time of expansion. Many mutations will take place on the external branches, leading to an increase in singletons."
   ]
  },
  {
   "cell_type": "code",
   "execution_count": 46,
   "metadata": {},
   "outputs": [
    {
     "data": {
      "image/svg+xml": [
       "<svg xmlns=\"http://www.w3.org/2000/svg\" xmlns:ev=\"http://www.w3.org/2001/xml-events\" xmlns:xlink=\"http://www.w3.org/1999/xlink\" baseProfile=\"full\" height=\"200\" version=\"1.1\" width=\"200\"><defs><style type=\"text/css\"><![CDATA[.axis {font-weight: bold}.tree, .axis {font-size: 14px; text-anchor:middle}.edge {stroke: black; fill: none}.node > .sym {fill: black; stroke: none}.tree text {dominant-baseline: middle}.tree .lab.lft {text-anchor: end}.tree .lab.rgt {text-anchor: start}.mut {fill: red; font-style: italic}]]></style></defs><g class=\"tree t0\"><g class=\"node n18 p0 root\" transform=\"translate(144.744 30.0)\"><g class=\"a18 node n12 p0\" transform=\"translate(20.7102 136.66)\"><g class=\"a12 leaf node n6 p0 sample\" transform=\"translate(-8.18182 3.34009)\"><path class=\"edge\" d=\"M 0 0 V -3.34009 H 8.18182\"/><circle class=\"sym\" cx=\"0\" cy=\"0\" r=\"3\"/><text class=\"lab\" transform=\"translate(0 12)\">6</text></g><g class=\"a12 leaf node n9 p0 sample\" transform=\"translate(8.18182 3.34009)\"><path class=\"edge\" d=\"M 0 0 V -3.34009 H -8.18182\"/><circle class=\"sym\" cx=\"0\" cy=\"0\" r=\"3\"/><text class=\"lab\" transform=\"translate(0 12)\">9</text></g><path class=\"edge\" d=\"M 0 0 V -136.66 H -20.7102\"/><circle class=\"sym\" cx=\"0\" cy=\"0\" r=\"3\"/><text class=\"lab rgt\" transform=\"translate(3 -6)\">12</text></g><g class=\"a18 node n17 p0\" transform=\"translate(-20.7102 89.2002)\"><g class=\"a17 leaf node n3 p0 sample\" transform=\"translate(16.875 50.7998)\"><path class=\"edge\" d=\"M 0 0 V -50.7998 H -16.875\"/><circle class=\"sym\" cx=\"0\" cy=\"0\" r=\"3\"/><text class=\"lab\" transform=\"translate(0 12)\">3</text></g><g class=\"a17 node n16 p0\" transform=\"translate(-16.875 37.3436)\"><g class=\"a16 leaf node n7 p0 sample\" transform=\"translate(17.3864 13.4562)\"><path class=\"edge\" d=\"M 0 0 V -13.4562 H -17.3864\"/><circle class=\"sym\" cx=\"0\" cy=\"0\" r=\"3\"/><text class=\"lab\" transform=\"translate(0 12)\">7</text></g><g class=\"a16 node n15 p0\" transform=\"translate(-17.3864 5.60844)\"><g class=\"a15 leaf node n4 p0 sample\" transform=\"translate(18.4091 7.8478)\"><path class=\"edge\" d=\"M 0 0 V -7.8478 H -18.4091\"/><circle class=\"sym\" cx=\"0\" cy=\"0\" r=\"3\"/><text class=\"lab\" transform=\"translate(0 12)\">4</text></g><g class=\"a15 node n14 p0\" transform=\"translate(-18.4091 2.93888)\"><g class=\"a14 leaf node n1 p0 sample\" transform=\"translate(20.4545 4.90892)\"><path class=\"edge\" d=\"M 0 0 V -4.90892 H -20.4545\"/><circle class=\"sym\" cx=\"0\" cy=\"0\" r=\"3\"/><text class=\"lab\" transform=\"translate(0 12)\">1</text></g><g class=\"a14 node n13 p0\" transform=\"translate(-20.4545 1.31059)\"><g class=\"a13 node n10 p0\" transform=\"translate(-16.3636 2.46527)\"><g class=\"a10 leaf node n0 p0 sample\" transform=\"translate(-8.18182 1.13306)\"><path class=\"edge\" d=\"M 0 0 V -1.13306 H 8.18182\"/><circle class=\"sym\" cx=\"0\" cy=\"0\" r=\"3\"/><text class=\"lab\" transform=\"translate(0 12)\">0</text></g><g class=\"a10 leaf node n8 p0 sample\" transform=\"translate(8.18182 1.13306)\"><path class=\"edge\" d=\"M 0 0 V -1.13306 H -8.18182\"/><circle class=\"sym\" cx=\"0\" cy=\"0\" r=\"3\"/><text class=\"lab\" transform=\"translate(0 12)\">8</text></g><path class=\"edge\" d=\"M 0 0 V -2.46527 H 16.3636\"/><circle class=\"sym\" cx=\"0\" cy=\"0\" r=\"3\"/><text class=\"lab lft\" transform=\"translate(-3 -6)\">10</text></g><g class=\"a13 node n11 p0\" transform=\"translate(16.3636 1.2957)\"><g class=\"a11 leaf node n2 p0 sample\" transform=\"translate(-8.18182 2.30263)\"><path class=\"edge\" d=\"M 0 0 V -2.30263 H 8.18182\"/><circle class=\"sym\" cx=\"0\" cy=\"0\" r=\"3\"/><text class=\"lab\" transform=\"translate(0 12)\">2</text></g><g class=\"a11 leaf node n5 p0 sample\" transform=\"translate(8.18182 2.30263)\"><path class=\"edge\" d=\"M 0 0 V -2.30263 H -8.18182\"/><circle class=\"sym\" cx=\"0\" cy=\"0\" r=\"3\"/><text class=\"lab\" transform=\"translate(0 12)\">5</text></g><path class=\"edge\" d=\"M 0 0 V -1.2957 H -16.3636\"/><circle class=\"sym\" cx=\"0\" cy=\"0\" r=\"3\"/><text class=\"lab rgt\" transform=\"translate(3 -6)\">11</text></g><path class=\"edge\" d=\"M 0 0 V -1.31059 H 20.4545\"/><circle class=\"sym\" cx=\"0\" cy=\"0\" r=\"3\"/><text class=\"lab lft\" transform=\"translate(-3 -6)\">13</text></g><path class=\"edge\" d=\"M 0 0 V -2.93888 H 18.4091\"/><circle class=\"sym\" cx=\"0\" cy=\"0\" r=\"3\"/><text class=\"lab lft\" transform=\"translate(-3 -6)\">14</text></g><path class=\"edge\" d=\"M 0 0 V -5.60844 H 17.3864\"/><circle class=\"sym\" cx=\"0\" cy=\"0\" r=\"3\"/><text class=\"lab lft\" transform=\"translate(-3 -6)\">15</text></g><path class=\"edge\" d=\"M 0 0 V -37.3436 H 16.875\"/><circle class=\"sym\" cx=\"0\" cy=\"0\" r=\"3\"/><text class=\"lab lft\" transform=\"translate(-3 -6)\">16</text></g><path class=\"edge\" d=\"M 0 0 V -89.2002 H 20.7102\"/><circle class=\"sym\" cx=\"0\" cy=\"0\" r=\"3\"/><text class=\"lab lft\" transform=\"translate(-3 -6)\">17</text></g><circle class=\"sym\" cx=\"0\" cy=\"0\" r=\"3\"/><text class=\"lab\" transform=\"translate(0 -10)\">18</text></g></g></svg>"
      ],
      "text/plain": [
       "<IPython.core.display.SVG object>"
      ]
     },
     "execution_count": 46,
     "metadata": {},
     "output_type": "execute_result"
    }
   ],
   "source": [
    "tree_contraction = msprime.simulate(\n",
    "    random_seed = 42,\n",
    "    population_configurations = [msprime.PopulationConfiguration(sample_size=10, initial_size=N0)],\n",
    "    demographic_events = [msprime.PopulationParametersChange(time=1e3, initial_size=100*N0, population_id=0)]\n",
    ")\n",
    "SVG(tree_contraction.first().draw())"
   ]
  },
  {
   "cell_type": "markdown",
   "metadata": {},
   "source": [
    "Now the internal branches are longer."
   ]
  },
  {
   "cell_type": "markdown",
   "metadata": {},
   "source": [
    "### Effect of population size on site frequency spectrum\n",
    "\n",
    "In order to examine the effect of changing population size on the site frequency spectrum (SFS) we need to add mutations. Here we choose $\\mu = 1 \\times 10^{-8}$ per base per generation in a 1kb sequence."
   ]
  },
  {
   "cell_type": "code",
   "execution_count": 47,
   "metadata": {},
   "outputs": [
    {
     "name": "stdout",
     "output_type": "stream",
     "text": [
      "Mutation @ position 65.05 over node 17\n",
      "Mutation @ position 232.77 over node 15\n",
      "Mutation @ position 382.46 over node 16\n",
      "Mutation @ position 466.76 over node 16\n",
      "Mutation @ position 617.48 over node 3\n",
      "Mutation @ position 808.40 over node 17\n",
      "Mutation @ position 948.89 over node 17\n",
      "Mutation @ position 965.63 over node 17\n",
      "Mutation @ position 983.23 over node 16\n"
     ]
    }
   ],
   "source": [
    "mu = 1e-8\n",
    "tree_constant = msprime.simulate(sample_size=10, Ne=N0, mutation_rate=mu, \n",
    "                                 random_seed=42, length = 1000)\n",
    "\n",
    "tree = tree_constant.first()\n",
    "for site in tree.sites():\n",
    "    for mutation in site.mutations:\n",
    "        print(\"Mutation @ position {:.2f} over node {}\".format(\n",
    "                site.position, mutation.node))\n"
   ]
  },
  {
   "cell_type": "markdown",
   "metadata": {},
   "source": [
    "We can also get the variants themselves:"
   ]
  },
  {
   "cell_type": "code",
   "execution_count": null,
   "metadata": {
    "collapsed": true
   },
   "outputs": [],
   "source": [
    "for variant in tree_constant.variants():\n",
    "    print(\n",
    "        variant.site.id, variant.site.position,\n",
    "        variant.alleles, variant.genotypes, sep=\"\\t\")"
   ]
  },
  {
   "cell_type": "markdown",
   "metadata": {},
   "source": [
    "### Scikit-allel and the sfs\n",
    "\n",
    "Coming later: we can use scikit.allel to look at the site frequency spectrum..."
   ]
  },
  {
   "cell_type": "code",
   "execution_count": null,
   "metadata": {
    "collapsed": true
   },
   "outputs": [],
   "source": [
    "import allel\n",
    "A = tree_constant.genotype_matrix()\n",
    "A"
   ]
  }
 ],
 "metadata": {
  "kernelspec": {
   "display_name": "Python 3",
   "language": "python",
   "name": "python3"
  },
  "language_info": {
   "codemirror_mode": {
    "name": "ipython",
    "version": 3
   },
   "file_extension": ".py",
   "mimetype": "text/x-python",
   "name": "python",
   "nbconvert_exporter": "python",
   "pygments_lexer": "ipython3",
   "version": "3.6.3"
  },
  "toc": {
   "base_numbering": 1,
   "nav_menu": {},
   "number_sections": false,
   "sideBar": false,
   "skip_h1_title": false,
   "title_cell": "Outline",
   "title_sidebar": "Contents",
   "toc_cell": true,
   "toc_position": {},
   "toc_section_display": true,
   "toc_window_display": false
  }
 },
 "nbformat": 4,
 "nbformat_minor": 4
}
